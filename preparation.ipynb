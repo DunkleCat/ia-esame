{
  "nbformat": 4,
  "nbformat_minor": 0,
  "metadata": {
    "colab": {
      "name": "preparazione-v2.ipynb",
      "provenance": [],
      "collapsed_sections": [],
      "mount_file_id": "1hoR4zXC-WhuYWoeTRQyyftfn5DXfm_Mh",
      "authorship_tag": "ABX9TyPAgEbOjRaxbm6+4F838+/n",
      "include_colab_link": true
    },
    "kernelspec": {
      "name": "python3",
      "display_name": "Python 3"
    }
  },
  "cells": [
    {
      "cell_type": "markdown",
      "metadata": {
        "id": "view-in-github",
        "colab_type": "text"
      },
      "source": [
        "<a href=\"https://colab.research.google.com/github/DunkleCat/ia-esame/blob/master/preparation.ipynb\" target=\"_parent\"><img src=\"https://colab.research.google.com/assets/colab-badge.svg\" alt=\"Open In Colab\"/></a>"
      ]
    },
    {
      "cell_type": "code",
      "metadata": {
        "id": "X6LT8hrJICTs",
        "colab_type": "code",
        "colab": {}
      },
      "source": [
        "## LIBRARIES ###################################################################\n",
        "\n",
        "import pandas as pd\n",
        "from sklearn.model_selection import train_test_split\n",
        "\n",
        "################################################################################\n",
        "\n",
        "## FUNCTIONS ###################################################################\n",
        "\n",
        "def io_load_csv(csv_path):\n",
        "  return pd.read_csv(csv_path)\n",
        "\n",
        "def split_train_test(dataframe):\n",
        "  train, test = train_test_split(dataframe, test_size=0.2)\n",
        "  train.name, test.name = 'train', 'test'\n",
        "  return train, test\n",
        "\n",
        "def io_save_dataframe_to_file(dataframe):\n",
        "  dataframe.to_csv(dataframe.name + \".csv\", index=False)\n",
        "\n",
        "def io_save_multiple_dataframes_to_file(dataframe_list):\n",
        "  list(map(io_save_dataframe_to_file, dataframe_list))\n",
        "\n",
        "################################################################################"
      ],
      "execution_count": 1,
      "outputs": []
    },
    {
      "cell_type": "code",
      "metadata": {
        "id": "n34CDSGfu27R",
        "colab_type": "code",
        "colab": {}
      },
      "source": [
        "## MANUAL INTERVENTION #########################################################\n",
        "\n",
        "csv_path = \"./appointment_data.csv\"\n",
        "\n",
        "################################################################################\n",
        "\n",
        "## EXECUTION ###################################################################\n",
        "\n",
        "dataframe = io_load_csv(csv_path)\n",
        "\n",
        "dataframe_list = split_train_test(dataframe)\n",
        "io_save_multiple_dataframes_to_file(dataframe_list)\n",
        "\n",
        "################################################################################"
      ],
      "execution_count": 2,
      "outputs": []
    }
  ]
}