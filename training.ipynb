{
  "nbformat": 4,
  "nbformat_minor": 0,
  "metadata": {
    "colab": {
      "name": "addestramento-v2.ipynb",
      "provenance": [],
      "collapsed_sections": [],
      "mount_file_id": "1zWS6KqmE1EEnTPyyrYRweDfthsRbMHtV",
      "authorship_tag": "ABX9TyNSD1dc+Utg5JOh8l94tODf",
      "include_colab_link": true
    },
    "kernelspec": {
      "name": "python3",
      "display_name": "Python 3"
    }
  },
  "cells": [
    {
      "cell_type": "markdown",
      "metadata": {
        "id": "view-in-github",
        "colab_type": "text"
      },
      "source": [
        "<a href=\"https://colab.research.google.com/github/DunkleCat/ia-esame/blob/master/training.ipynb\" target=\"_parent\"><img src=\"https://colab.research.google.com/assets/colab-badge.svg\" alt=\"Open In Colab\"/></a>"
      ]
    },
    {
      "cell_type": "code",
      "metadata": {
        "id": "zjbOOAFTfG-f",
        "colab_type": "code",
        "colab": {}
      },
      "source": [
        "!pip install -r requirements.txt"
      ],
      "execution_count": 55,
      "outputs": []
    },
    {
      "cell_type": "markdown",
      "metadata": {
        "id": "hbnDWeBAhNZU",
        "colab_type": "text"
      },
      "source": [
        "# Caricamento del dataframe"
      ]
    },
    {
      "cell_type": "code",
      "metadata": {
        "id": "KGwiLbchbJ6g",
        "colab_type": "code",
        "colab": {}
      },
      "source": [
        "import pandas as pd\n",
        "\n",
        "def io_load_multiple_csv(csv_path_list):\n",
        "  dataframe_list = []\n",
        "  for elem in csv_path_list:\n",
        "    dataframe_list.append(io_load_csv(elem))\n",
        "  return dataframe_list\n",
        "\n",
        "def io_load_csv(csv_path):\n",
        "  return pd.read_csv(csv_path)  "
      ],
      "execution_count": 56,
      "outputs": []
    },
    {
      "cell_type": "markdown",
      "metadata": {
        "id": "xqaGCvdyhVGY",
        "colab_type": "text"
      },
      "source": [
        "# Analisi del Dataset\n"
      ]
    },
    {
      "cell_type": "markdown",
      "metadata": {
        "id": "3ENAcUFdkRPM",
        "colab_type": "text"
      },
      "source": [
        "## Normalizzazione valori nulli"
      ]
    },
    {
      "cell_type": "markdown",
      "metadata": {
        "id": "abfKiypPh7kW",
        "colab_type": "text"
      },
      "source": [
        "Come primo passaggio normalizziamo i valori che rappresentano attributi mancanti trasformandoli tutti in np.nan\n"
      ]
    },
    {
      "cell_type": "code",
      "metadata": {
        "id": "XoNYh4_miEiI",
        "colab_type": "code",
        "colab": {}
      },
      "source": [
        "import numpy as np\n",
        "\n",
        "def normalize_nan(dataframe, nan_list):\n",
        "  for elem in nan_list:\n",
        "    dataframe.replace(elem, np.nan, inplace=True)\n",
        "  return dataframe"
      ],
      "execution_count": 57,
      "outputs": []
    },
    {
      "cell_type": "markdown",
      "metadata": {
        "id": "_0ftIA-IkVeG",
        "colab_type": "text"
      },
      "source": [
        "## Analisi dataframe"
      ]
    },
    {
      "cell_type": "markdown",
      "metadata": {
        "id": "qqdINduvkkh6",
        "colab_type": "text"
      },
      "source": [
        "Passiamo ora ad analizzare i dati in ingresso"
      ]
    },
    {
      "cell_type": "code",
      "metadata": {
        "id": "pZaFwM8jhcUE",
        "colab_type": "code",
        "colab": {}
      },
      "source": [
        "def print_infos(dataframe):\n",
        "  print(\"Dataframe miscellaneous:\\n\")\n",
        "  print(\"Rows     : {}\".format(dataframe.shape[0]) )\n",
        "  print(\"Columns  : {}\".format(dataframe.shape[1]))\n",
        "  print(\"\\nFeatures :\\n{}\".format(dataframe.columns.tolist()))\n",
        "  print(\"\\nUnique values :\\n{}\".format(dataframe.nunique()))\n",
        "\n",
        "  print(\"\\nDataframe info:\")\n",
        "  dataframe.info()"
      ],
      "execution_count": 58,
      "outputs": []
    },
    {
      "cell_type": "code",
      "metadata": {
        "id": "wWbBWC5Zk_Gk",
        "colab_type": "code",
        "colab": {}
      },
      "source": [
        "import matplotlib.pyplot as plt\n",
        "import seaborn as sb\n",
        "\n",
        "def print_feature_plots(dataframe, feature_list, feature_target):\n",
        "  for elem in dataframe:\n",
        "    if elem in feature_list:\n",
        "      plot = sb.catplot(x = feature_target, \n",
        "                        col = elem, \n",
        "                        data = dataframe, \n",
        "                        kind = 'count')\n",
        "    plt.show()"
      ],
      "execution_count": 59,
      "outputs": []
    },
    {
      "cell_type": "markdown",
      "metadata": {
        "id": "ifQnmcdEF-ns",
        "colab_type": "text"
      },
      "source": [
        "Questa funzione, data una lista di feature, elimina dal dataframe in input tutte le colonne appartenti alla lista precedente. "
      ]
    },
    {
      "cell_type": "code",
      "metadata": {
        "id": "EouVsndIqn4U",
        "colab_type": "code",
        "colab": {}
      },
      "source": [
        "def clean_useless(dataframe, column_list):\n",
        "  for elem in column_list:\n",
        "    dataframe.pop(elem)\n",
        "  return dataframe"
      ],
      "execution_count": 60,
      "outputs": []
    },
    {
      "cell_type": "markdown",
      "metadata": {
        "id": "g6KjO_FDKNbc",
        "colab_type": "text"
      },
      "source": [
        "## Altre informazioni temporali"
      ]
    },
    {
      "cell_type": "code",
      "metadata": {
        "id": "RxNCOmpDKMqS",
        "colab_type": "code",
        "colab": {}
      },
      "source": [
        "from datetime import date\n",
        "\n",
        "def add_diffence_scheduled_appointment_day(dataframe):\n",
        "  \n",
        "  appointmentWeekdayDay = []\n",
        "  daysFromScheduledToAppointment = []\n",
        "\n",
        "  for i in range(dataframe['AppointmentDay'].size):\n",
        "    appointmentWeekdayDay.append(get_weekday(dataframe['AppointmentDay'][i]))\n",
        "    daysFromScheduledToAppointment.append(get_diff_days(dataframe['ScheduledDay'][i], dataframe['AppointmentDay'][i]))\n",
        "  \n",
        "  dataframe['AppointmentWeekDay'] = appointmentWeekdayDay\n",
        "  dataframe['DaysFromScheduledToAppointment'] = daysFromScheduledToAppointment\n",
        "  return dataframe\n",
        "\n",
        "# string_date = YYYY-MM-DD[.*]\n",
        "def get_date(string_date):\n",
        "  return date(year = int(string_date[0:4]), \n",
        "              month = int(string_date[5:7]), \n",
        "              day = int(string_date[8:10]))\n",
        "\n",
        "def get_weekday(string_date):\n",
        "  return get_date(string_date).weekday()\n",
        "\n",
        "def get_diff_days(string_date_start, string_date_end): \n",
        "  return (get_date(string_date_end) - get_date(string_date_start)).days\n"
      ],
      "execution_count": 61,
      "outputs": []
    },
    {
      "cell_type": "markdown",
      "metadata": {
        "id": "SxvzyeTI4hiU",
        "colab_type": "text"
      },
      "source": [
        "# Modello"
      ]
    },
    {
      "cell_type": "markdown",
      "metadata": {
        "id": "JiirmBL-lr4u",
        "colab_type": "text"
      },
      "source": [
        "Vengono sfruttate le possiilità offerte da una pipeline di sklearn per creare ed utilizzare il modello.\n",
        "\n",
        "Come classificatore viene utilizzato l'algoritmo di Random Forest. Esso è un algoritmo di tipo Ensemble, e quindi sfrutta la combinazione di altri algoritmi più deboli ma opportunamente organizzati ed utilizzati per ottenere dei risultati soddisfacenti. Nel caso specifico abbiamo una combinazione di classificatori di tipo Decision tree."
      ]
    },
    {
      "cell_type": "code",
      "metadata": {
        "id": "-8zabkrb4pKS",
        "colab_type": "code",
        "colab": {}
      },
      "source": [
        "from sklearn.pipeline import Pipeline\n",
        "from sklearn.impute import SimpleImputer\n",
        "from sklearn.compose import ColumnTransformer\n",
        "from sklearn.preprocessing import StandardScaler, OneHotEncoder\n",
        "from sklearn.ensemble import RandomForestClassifier\n",
        "\n",
        "def create_model(dataframe):\n",
        "\n",
        "  preprocessor = create_preprocessor(dataframe)\n",
        "\n",
        "  return Pipeline(\n",
        "      steps = [('preprocessor', preprocessor),\n",
        "               ('classifier', RandomForestClassifier())])\n",
        "\n",
        "def create_preprocessor(dataframe):\n",
        "  numeric_features = get_numeric_features(dataframe)\n",
        "  numeric_transformer = Pipeline(\n",
        "      steps = [('imputer', SimpleImputer(strategy='median')),\n",
        "               ('scaler', StandardScaler())])\n",
        "\n",
        "  categorical_features = get_categorical_features(dataframe)\n",
        "  categorical_transformer = Pipeline(\n",
        "      steps=[('imputer', SimpleImputer(strategy='most_frequent')),\n",
        "             ('onehot', OneHotEncoder(handle_unknown='ignore'))])\n",
        "\n",
        "  return ColumnTransformer(\n",
        "      transformers=[('num', numeric_transformer, numeric_features),\n",
        "                    ('cat', categorical_transformer, categorical_features)])\n",
        "\n",
        "def get_numeric_features(dataframe):\n",
        "  numeric_features = []\n",
        "  for elem in dataframe:\n",
        "    if is_numeric(dataframe[elem]):\n",
        "      numeric_features.append(elem)\n",
        "  return numeric_features\n",
        "\n",
        "def get_categorical_features(dataframe):\n",
        "  categorical_features = []\n",
        "  for elem in dataframe:\n",
        "    if is_categorical(dataframe[elem]):\n",
        "      categorical_features.append(elem)\n",
        "  return categorical_features\n",
        "\n",
        "def is_numeric(elem):\n",
        "  return elem is float or elem is int\n",
        "\n",
        "def is_categorical(elem):\n",
        "  return not is_numeric(elem)"
      ],
      "execution_count": 62,
      "outputs": []
    },
    {
      "cell_type": "code",
      "metadata": {
        "id": "BcY6PnOza8gG",
        "colab_type": "code",
        "colab": {}
      },
      "source": [
        "from sklearn import set_config\n",
        "\n",
        "def print_model(model):\n",
        "  #set_config(display='diagram')\n",
        "  model"
      ],
      "execution_count": 63,
      "outputs": []
    },
    {
      "cell_type": "code",
      "metadata": {
        "id": "pXh8lGdu4xh4",
        "colab_type": "code",
        "colab": {}
      },
      "source": [
        "from sklearn.model_selection import GridSearchCV\n",
        "\n",
        "def train_model(model, dataframe_train, dataframe_train_target):\n",
        "  return model.fit(dataframe_train, dataframe_train_target)"
      ],
      "execution_count": 64,
      "outputs": []
    },
    {
      "cell_type": "code",
      "metadata": {
        "id": "_mtvuGE95XgY",
        "colab_type": "code",
        "colab": {}
      },
      "source": [
        "from sklearn.metrics import accuracy_score, balanced_accuracy_score, f1_score, classification_report, plot_confusion_matrix\n",
        "\n",
        "def print_test_model(model, dataframe_test, dataframe_test_target):\n",
        "  preds = model.predict(dataframe_test)\n",
        "  print('Test score: {}'.format(model.score(dataframe_test, dataframe_test_target)))\n",
        " \n",
        "  print(classification_report(dataframe_test_target, preds))"
      ],
      "execution_count": 65,
      "outputs": []
    },
    {
      "cell_type": "markdown",
      "metadata": {
        "id": "KvabuvzMijfD",
        "colab_type": "text"
      },
      "source": [
        "# Esecuzione"
      ]
    },
    {
      "cell_type": "markdown",
      "metadata": {
        "id": "dGY5l2stAHSO",
        "colab_type": "text"
      },
      "source": [
        "\n",
        "\n"
      ]
    },
    {
      "cell_type": "code",
      "metadata": {
        "id": "Tr1o_OB9ik78",
        "colab_type": "code",
        "colab": {}
      },
      "source": [
        "## MISCELLANEOUS ###############################################################\n",
        "\n",
        "# Rende i numeri a virgola mobile più leggibili\n",
        "np.set_printoptions(precision=3, suppress=True)\n",
        "\n",
        "################################################################################"
      ],
      "execution_count": 66,
      "outputs": []
    },
    {
      "cell_type": "code",
      "metadata": {
        "id": "PJhX6GtOgbiA",
        "colab_type": "code",
        "colab": {}
      },
      "source": [
        "## MANUAL INTERVENTION #########################################################\n",
        "\n",
        "dataframe_train_path = \"train.csv\"\n",
        "dataframe_test_path = \"test.csv\"\n",
        "\n",
        "################################################################################\n",
        "\n",
        "## EXECUTION ###################################################################\n",
        "\n",
        "dataframe_train, dataframe_test = io_load_multiple_csv([dataframe_train_path, \n",
        "                                                        dataframe_test_path])\n",
        "\n",
        "################################################################################"
      ],
      "execution_count": 67,
      "outputs": []
    },
    {
      "cell_type": "code",
      "metadata": {
        "id": "MDPjs4TCx9sa",
        "colab_type": "code",
        "colab": {
          "base_uri": "https://localhost:8080/",
          "height": 204
        },
        "outputId": "3b894a5b-e1c5-4718-c65d-3cbff9ea6a7c"
      },
      "source": [
        "dataframe_train.head()"
      ],
      "execution_count": 68,
      "outputs": [
        {
          "output_type": "execute_result",
          "data": {
            "text/html": [
              "<div>\n",
              "<style scoped>\n",
              "    .dataframe tbody tr th:only-of-type {\n",
              "        vertical-align: middle;\n",
              "    }\n",
              "\n",
              "    .dataframe tbody tr th {\n",
              "        vertical-align: top;\n",
              "    }\n",
              "\n",
              "    .dataframe thead th {\n",
              "        text-align: right;\n",
              "    }\n",
              "</style>\n",
              "<table border=\"1\" class=\"dataframe\">\n",
              "  <thead>\n",
              "    <tr style=\"text-align: right;\">\n",
              "      <th></th>\n",
              "      <th>No-show</th>\n",
              "      <th>PatientId</th>\n",
              "      <th>AppointmentID</th>\n",
              "      <th>Gender</th>\n",
              "      <th>ScheduledDay</th>\n",
              "      <th>AppointmentDay</th>\n",
              "      <th>Age</th>\n",
              "      <th>Neighbourhood</th>\n",
              "      <th>Scholarship</th>\n",
              "      <th>Hipertension</th>\n",
              "      <th>Diabetes</th>\n",
              "      <th>Alcoholism</th>\n",
              "      <th>Handcap</th>\n",
              "      <th>SMS_received</th>\n",
              "    </tr>\n",
              "  </thead>\n",
              "  <tbody>\n",
              "    <tr>\n",
              "      <th>0</th>\n",
              "      <td>No</td>\n",
              "      <td>2.647823e+12</td>\n",
              "      <td>5626550</td>\n",
              "      <td>M</td>\n",
              "      <td>2016-04-27T08:22:02Z</td>\n",
              "      <td>2016-05-05T00:00:00Z</td>\n",
              "      <td>63</td>\n",
              "      <td>ILHA DO PRÍNCIPE</td>\n",
              "      <td>0</td>\n",
              "      <td>1</td>\n",
              "      <td>1</td>\n",
              "      <td>0</td>\n",
              "      <td>0</td>\n",
              "      <td>1</td>\n",
              "    </tr>\n",
              "    <tr>\n",
              "      <th>1</th>\n",
              "      <td>No</td>\n",
              "      <td>2.772585e+14</td>\n",
              "      <td>5680940</td>\n",
              "      <td>F</td>\n",
              "      <td>2016-05-10T13:18:27Z</td>\n",
              "      <td>2016-05-13T00:00:00Z</td>\n",
              "      <td>52</td>\n",
              "      <td>SANTO ANTÔNIO</td>\n",
              "      <td>0</td>\n",
              "      <td>0</td>\n",
              "      <td>0</td>\n",
              "      <td>0</td>\n",
              "      <td>0</td>\n",
              "      <td>0</td>\n",
              "    </tr>\n",
              "    <tr>\n",
              "      <th>2</th>\n",
              "      <td>No</td>\n",
              "      <td>5.378235e+13</td>\n",
              "      <td>5679296</td>\n",
              "      <td>F</td>\n",
              "      <td>2016-05-10T09:44:35Z</td>\n",
              "      <td>2016-05-10T00:00:00Z</td>\n",
              "      <td>46</td>\n",
              "      <td>CENTRO</td>\n",
              "      <td>0</td>\n",
              "      <td>1</td>\n",
              "      <td>0</td>\n",
              "      <td>0</td>\n",
              "      <td>0</td>\n",
              "      <td>0</td>\n",
              "    </tr>\n",
              "    <tr>\n",
              "      <th>3</th>\n",
              "      <td>No</td>\n",
              "      <td>2.711119e+13</td>\n",
              "      <td>5621478</td>\n",
              "      <td>F</td>\n",
              "      <td>2016-04-26T10:21:41Z</td>\n",
              "      <td>2016-05-02T00:00:00Z</td>\n",
              "      <td>31</td>\n",
              "      <td>DA PENHA</td>\n",
              "      <td>0</td>\n",
              "      <td>0</td>\n",
              "      <td>0</td>\n",
              "      <td>0</td>\n",
              "      <td>0</td>\n",
              "      <td>0</td>\n",
              "    </tr>\n",
              "    <tr>\n",
              "      <th>4</th>\n",
              "      <td>No</td>\n",
              "      <td>8.328715e+10</td>\n",
              "      <td>5671891</td>\n",
              "      <td>F</td>\n",
              "      <td>2016-05-09T07:22:43Z</td>\n",
              "      <td>2016-05-11T00:00:00Z</td>\n",
              "      <td>50</td>\n",
              "      <td>CONQUISTA</td>\n",
              "      <td>0</td>\n",
              "      <td>0</td>\n",
              "      <td>0</td>\n",
              "      <td>0</td>\n",
              "      <td>0</td>\n",
              "      <td>0</td>\n",
              "    </tr>\n",
              "  </tbody>\n",
              "</table>\n",
              "</div>"
            ],
            "text/plain": [
              "  No-show     PatientId  AppointmentID  ... Alcoholism Handcap SMS_received\n",
              "0      No  2.647823e+12        5626550  ...          0       0            1\n",
              "1      No  2.772585e+14        5680940  ...          0       0            0\n",
              "2      No  5.378235e+13        5679296  ...          0       0            0\n",
              "3      No  2.711119e+13        5621478  ...          0       0            0\n",
              "4      No  8.328715e+10        5671891  ...          0       0            0\n",
              "\n",
              "[5 rows x 14 columns]"
            ]
          },
          "metadata": {
            "tags": []
          },
          "execution_count": 68
        }
      ]
    },
    {
      "cell_type": "code",
      "metadata": {
        "id": "EuM7YKJ2FFHO",
        "colab_type": "code",
        "colab": {
          "base_uri": "https://localhost:8080/",
          "height": 782
        },
        "outputId": "1e741163-523c-43cb-dc62-f0ae93153297"
      },
      "source": [
        "## MANUAL INTERVENTION #########################################################\n",
        "\n",
        "nan_list = [\n",
        "            \"\", \n",
        "            \" \", \n",
        "            \"?\",\n",
        "            \"unknown\"\n",
        "] # All the ways a nan element appears inside the dataframe\n",
        "\n",
        "feature_target = \"No-show\"\n",
        "\n",
        "################################################################################\n",
        "\n",
        "## EXECUTION ###################################################################\n",
        "\n",
        "# Clean the dataframe from nan values\n",
        "dataframe_train = normalize_nan(dataframe_train, nan_list)\n",
        "dataframe_test = normalize_nan(dataframe_test, nan_list)\n",
        "\n",
        "# Print dataframe's infographic\n",
        "print_infos(dataframe_train)\n",
        "\n",
        "################################################################################"
      ],
      "execution_count": 69,
      "outputs": [
        {
          "output_type": "stream",
          "text": [
            "Dataframe miscellaneous:\n",
            "\n",
            "Rows     : 70736\n",
            "Columns  : 14\n",
            "\n",
            "Features :\n",
            "['No-show', 'PatientId', 'AppointmentID', 'Gender', 'ScheduledDay', 'AppointmentDay', 'Age', 'Neighbourhood', 'Scholarship', 'Hipertension', 'Diabetes', 'Alcoholism', 'Handcap', 'SMS_received']\n",
            "\n",
            "Unique values :\n",
            "No-show               2\n",
            "PatientId         46573\n",
            "AppointmentID     70736\n",
            "Gender                2\n",
            "ScheduledDay      67701\n",
            "AppointmentDay       27\n",
            "Age                 103\n",
            "Neighbourhood        81\n",
            "Scholarship           2\n",
            "Hipertension          2\n",
            "Diabetes              2\n",
            "Alcoholism            2\n",
            "Handcap               5\n",
            "SMS_received          2\n",
            "dtype: int64\n",
            "\n",
            "Dataframe info:\n",
            "<class 'pandas.core.frame.DataFrame'>\n",
            "RangeIndex: 70736 entries, 0 to 70735\n",
            "Data columns (total 14 columns):\n",
            "No-show           70736 non-null object\n",
            "PatientId         70736 non-null float64\n",
            "AppointmentID     70736 non-null int64\n",
            "Gender            70736 non-null object\n",
            "ScheduledDay      70736 non-null object\n",
            "AppointmentDay    70736 non-null object\n",
            "Age               70736 non-null int64\n",
            "Neighbourhood     70736 non-null object\n",
            "Scholarship       70736 non-null int64\n",
            "Hipertension      70736 non-null int64\n",
            "Diabetes          70736 non-null int64\n",
            "Alcoholism        70736 non-null int64\n",
            "Handcap           70736 non-null int64\n",
            "SMS_received      70736 non-null int64\n",
            "dtypes: float64(1), int64(8), object(5)\n",
            "memory usage: 7.6+ MB\n"
          ],
          "name": "stdout"
        }
      ]
    },
    {
      "cell_type": "code",
      "metadata": {
        "id": "2YwnlUJUF2yP",
        "colab_type": "code",
        "colab": {}
      },
      "source": [
        "## MANUAL INTERVENTION #########################################################\n",
        "\n",
        "useless_list = [\n",
        "                \"AppointmentID\"       \n",
        "] # All the meaningless attributes in relation to the prediction \n",
        "\n",
        "################################################################################\n",
        "\n",
        "## EXECUTION ###################################################################\n",
        "\n",
        "# Clean the dataframe from meningless features\n",
        "dataframe_train = clean_useless(dataframe_train, useless_list)\n",
        "dataframe_test = clean_useless(dataframe_test, useless_list)\n",
        "\n",
        "# Add some useful features\n",
        "dataframe_train = add_diffence_scheduled_appointment_day(dataframe_train)\n",
        "dataframe_test = add_diffence_scheduled_appointment_day(dataframe_test)\n",
        "\n",
        "################################################################################\n"
      ],
      "execution_count": 70,
      "outputs": []
    },
    {
      "cell_type": "code",
      "metadata": {
        "id": "VVf94hWA3yEA",
        "colab_type": "code",
        "colab": {}
      },
      "source": [
        "from sklearn.preprocessing import LabelEncoder\n",
        "\n",
        "## MANUAL INTERVENTION #########################################################\n",
        "\n",
        "feature_target = \"No-show\"\n",
        "\n",
        "################################################################################\n",
        "\n",
        "## TARGET PREPARATION ##########################################################\n",
        "\n",
        "le = LabelEncoder()\n",
        "\n",
        "dataframe_train_target = le.fit_transform(dataframe_train.pop(feature_target))\n",
        "dataframe_test_target = le.transform(dataframe_test.pop(feature_target))\n",
        "\n",
        "################################################################################"
      ],
      "execution_count": 71,
      "outputs": []
    },
    {
      "cell_type": "code",
      "metadata": {
        "id": "IYkMADTVMvi6",
        "colab_type": "code",
        "colab": {
          "base_uri": "https://localhost:8080/",
          "height": 187
        },
        "outputId": "3d789124-67df-4436-ffe2-354fb98936bb"
      },
      "source": [
        "## CLASSIFIER ##################################################################\n",
        "\n",
        "# Create the classifier\n",
        "classifier = create_model(dataframe_train)\n",
        "print_model(classifier)\n",
        "\n",
        "# Train the classifier\n",
        "classifier = train_model(classifier, dataframe_train, dataframe_train_target)\n",
        "\n",
        "# Test the classifier\n",
        "print_test_model(classifier, dataframe_test, dataframe_test_target)\n",
        "\n",
        "################################################################################"
      ],
      "execution_count": 72,
      "outputs": [
        {
          "output_type": "stream",
          "text": [
            "Test score: 0.8048063330506079\n",
            "              precision    recall  f1-score   support\n",
            "\n",
            "           0       0.80      1.00      0.89     14119\n",
            "           1       0.82      0.04      0.08      3566\n",
            "\n",
            "    accuracy                           0.80     17685\n",
            "   macro avg       0.81      0.52      0.48     17685\n",
            "weighted avg       0.81      0.80      0.73     17685\n",
            "\n"
          ],
          "name": "stdout"
        }
      ]
    }
  ]
}