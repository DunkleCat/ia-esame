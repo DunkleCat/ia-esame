{
  "nbformat": 4,
  "nbformat_minor": 0,
  "metadata": {
    "colab": {
      "name": "addestramento-v2.ipynb",
      "provenance": [],
      "collapsed_sections": [],
      "mount_file_id": "1zWS6KqmE1EEnTPyyrYRweDfthsRbMHtV",
      "authorship_tag": "ABX9TyNLcUOxiLomDQkNWvwEfvEs",
      "include_colab_link": true
    },
    "kernelspec": {
      "name": "python3",
      "display_name": "Python 3"
    }
  },
  "cells": [
    {
      "cell_type": "markdown",
      "metadata": {
        "id": "view-in-github",
        "colab_type": "text"
      },
      "source": [
        "<a href=\"https://colab.research.google.com/github/DunkleCat/ia-esame/blob/master/training.ipynb\" target=\"_parent\"><img src=\"https://colab.research.google.com/assets/colab-badge.svg\" alt=\"Open In Colab\"/></a>"
      ]
    },
    {
      "cell_type": "code",
      "metadata": {
        "id": "zjbOOAFTfG-f",
        "colab_type": "code",
        "colab": {}
      },
      "source": [
        "!pip install -r requirements.txt"
      ],
      "execution_count": null,
      "outputs": []
    },
    {
      "cell_type": "markdown",
      "metadata": {
        "id": "hbnDWeBAhNZU",
        "colab_type": "text"
      },
      "source": [
        "# Caricamento del dataframe"
      ]
    },
    {
      "cell_type": "code",
      "metadata": {
        "id": "KGwiLbchbJ6g",
        "colab_type": "code",
        "colab": {}
      },
      "source": [
        "import pandas as pd\n",
        "\n",
        "def io_load_multiple_csv(csv_path_list):\n",
        "  dataframe_list = []\n",
        "  for elem in csv_path_list:\n",
        "    dataframe_list.append(io_load_csv(elem))\n",
        "  return dataframe_list\n",
        "\n",
        "def io_load_csv(csv_path):\n",
        "  return pd.read_csv(csv_path)  "
      ],
      "execution_count": null,
      "outputs": []
    },
    {
      "cell_type": "markdown",
      "metadata": {
        "id": "xqaGCvdyhVGY",
        "colab_type": "text"
      },
      "source": [
        "# Analisi del Dataset\n"
      ]
    },
    {
      "cell_type": "markdown",
      "metadata": {
        "id": "3ENAcUFdkRPM",
        "colab_type": "text"
      },
      "source": [
        "## Normalizzazione valori nulli"
      ]
    },
    {
      "cell_type": "markdown",
      "metadata": {
        "id": "abfKiypPh7kW",
        "colab_type": "text"
      },
      "source": [
        "Come primo passaggio normalizziamo i valori che rappresentano attributi mancanti trasformandoli tutti in np.nan\n"
      ]
    },
    {
      "cell_type": "code",
      "metadata": {
        "id": "XoNYh4_miEiI",
        "colab_type": "code",
        "colab": {}
      },
      "source": [
        "import numpy as np\n",
        "\n",
        "def normalize_nan(dataframe, nan_list):\n",
        "  for elem in nan_list:\n",
        "    dataframe.replace(elem, np.nan, inplace=True)\n",
        "  return dataframe"
      ],
      "execution_count": null,
      "outputs": []
    },
    {
      "cell_type": "markdown",
      "metadata": {
        "id": "_0ftIA-IkVeG",
        "colab_type": "text"
      },
      "source": [
        "## Analisi dataframe"
      ]
    },
    {
      "cell_type": "markdown",
      "metadata": {
        "id": "qqdINduvkkh6",
        "colab_type": "text"
      },
      "source": [
        "Passiamo ora ad analizzare i dati in ingresso"
      ]
    },
    {
      "cell_type": "code",
      "metadata": {
        "id": "pZaFwM8jhcUE",
        "colab_type": "code",
        "colab": {}
      },
      "source": [
        "def print_infos(dataframe):\n",
        "  print(\"Dataframe miscellaneous:\\n\")\n",
        "  print(\"Rows     : {}\".format(dataframe.shape[0]) )\n",
        "  print(\"Columns  : {}\".format(dataframe.shape[1]))\n",
        "  print(\"\\nFeatures :\\n{}\".format(dataframe.columns.tolist()))\n",
        "  print(\"\\nUnique values :\\n{}\".format(dataframe.nunique()))\n",
        "\n",
        "  print(\"\\nDataframe info:\")\n",
        "  dataframe.info()\n",
        "\n",
        "  for elem in dataframe:\n",
        "    print(elem, ': ', np.sort(dataframe[elem].unique()))"
      ],
      "execution_count": null,
      "outputs": []
    },
    {
      "cell_type": "code",
      "metadata": {
        "id": "wWbBWC5Zk_Gk",
        "colab_type": "code",
        "colab": {}
      },
      "source": [
        "import matplotlib.pyplot as plt\n",
        "import seaborn as sb\n",
        "\n",
        "def print_feature_plots(dataframe, feature_list, feature_target):\n",
        "  for elem in dataframe:\n",
        "    if elem in feature_list:\n",
        "      plot = sb.catplot(x = feature_target, \n",
        "                        col = elem, \n",
        "                        data = dataframe, \n",
        "                        kind = 'count')\n",
        "    plt.show()"
      ],
      "execution_count": null,
      "outputs": []
    },
    {
      "cell_type": "markdown",
      "metadata": {
        "id": "ifQnmcdEF-ns",
        "colab_type": "text"
      },
      "source": [
        "Dati un dataframe ed una lista di feature elimina dal dataframe tutte le features presenti all'interno della lista. "
      ]
    },
    {
      "cell_type": "code",
      "metadata": {
        "id": "EouVsndIqn4U",
        "colab_type": "code",
        "colab": {}
      },
      "source": [
        "def clean_useless(dataframe, column_list):\n",
        "  for elem in column_list:\n",
        "    dataframe.pop(elem)\n",
        "  return dataframe"
      ],
      "execution_count": null,
      "outputs": []
    },
    {
      "cell_type": "markdown",
      "metadata": {
        "id": "g6KjO_FDKNbc",
        "colab_type": "text"
      },
      "source": [
        "## Altre informazioni temporali"
      ]
    },
    {
      "cell_type": "code",
      "metadata": {
        "id": "RxNCOmpDKMqS",
        "colab_type": "code",
        "colab": {}
      },
      "source": [
        "from datetime import date\n",
        "\n",
        "def add_diffence_scheduled_appointment_day(dataframe):\n",
        "  \n",
        "  appointmentWeekdayDay = []\n",
        "  daysFromScheduledToAppointment = []\n",
        "\n",
        "  for i in range(dataframe['AppointmentDay'].size):\n",
        "    appointmentWeekdayDay.append(get_weekday(dataframe['AppointmentDay'][i]))\n",
        "    daysFromScheduledToAppointment.append(get_diff_days(dataframe['ScheduledDay'][i], dataframe['AppointmentDay'][i]))\n",
        "  \n",
        "  dataframe['AppointmentWeekDay'] = appointmentWeekdayDay\n",
        "  dataframe['DaysFromScheduledToAppointment'] = daysFromScheduledToAppointment\n",
        "  return dataframe\n",
        "\n",
        "# string_date = YYYY-MM-DD[.*]\n",
        "def get_date(string_date):\n",
        "  return date(year = int(string_date[0:4]), \n",
        "              month = int(string_date[5:7]), \n",
        "              day = int(string_date[8:10]))\n",
        "\n",
        "def get_weekday(string_date):\n",
        "  return get_date(string_date).weekday()\n",
        "\n",
        "def get_diff_days(string_date_start, string_date_end): \n",
        "  return (get_date(string_date_end) - get_date(string_date_start)).days"
      ],
      "execution_count": null,
      "outputs": []
    },
    {
      "cell_type": "markdown",
      "metadata": {
        "id": "SxvzyeTI4hiU",
        "colab_type": "text"
      },
      "source": [
        "# Modello"
      ]
    },
    {
      "cell_type": "markdown",
      "metadata": {
        "id": "JiirmBL-lr4u",
        "colab_type": "text"
      },
      "source": [
        "Vengono sfruttate le possiilità offerte da una pipeline di sklearn per creare ed utilizzare il modello.\n",
        "\n",
        "Come classificatore viene utilizzato l'algoritmo di Random Forest. Esso è un algoritmo di tipo Ensemble, e quindi sfrutta la combinazione di altri algoritmi più deboli ma opportunamente organizzati ed utilizzati per ottenere dei risultati soddisfacenti. Nel caso specifico abbiamo una combinazione di classificatori di tipo Decision tree."
      ]
    },
    {
      "cell_type": "code",
      "metadata": {
        "id": "-8zabkrb4pKS",
        "colab_type": "code",
        "colab": {}
      },
      "source": [
        "from sklearn.pipeline import Pipeline\n",
        "from sklearn.impute import SimpleImputer\n",
        "from sklearn.compose import ColumnTransformer\n",
        "from sklearn.preprocessing import StandardScaler, OneHotEncoder\n",
        "from sklearn.ensemble import RandomForestClassifier\n",
        "\n",
        "def create_model(dataframe):\n",
        "\n",
        "  preprocessor = create_preprocessor(dataframe)\n",
        "\n",
        "  return Pipeline(\n",
        "      steps = [('preprocessor', preprocessor),\n",
        "               ('classifier', RandomForestClassifier())])\n",
        "\n",
        "def create_preprocessor(dataframe):\n",
        "  numeric_features = get_numeric_features(dataframe)\n",
        "  numeric_transformer = Pipeline(\n",
        "      steps = [('imputer', SimpleImputer(strategy='median')),\n",
        "               ('scaler', StandardScaler())])\n",
        "\n",
        "  categorical_features = get_categorical_features(dataframe)\n",
        "  categorical_transformer = Pipeline(\n",
        "      steps=[('imputer', SimpleImputer(strategy='most_frequent')),\n",
        "             ('onehot', OneHotEncoder(handle_unknown='ignore'))])\n",
        "\n",
        "  return ColumnTransformer(\n",
        "      transformers=[('num', numeric_transformer, numeric_features),\n",
        "                    ('cat', categorical_transformer, categorical_features)])\n",
        "\n",
        "def get_numeric_features(dataframe):\n",
        "  numeric_features = []\n",
        "  for elem in dataframe:\n",
        "    if is_numeric(dataframe[elem]):\n",
        "      numeric_features.append(elem)\n",
        "  return numeric_features\n",
        "\n",
        "def get_categorical_features(dataframe):\n",
        "  categorical_features = []\n",
        "  for elem in dataframe:\n",
        "    if is_categorical(dataframe[elem]):\n",
        "      categorical_features.append(elem)\n",
        "  return categorical_features\n",
        "\n",
        "def is_numeric(elem):\n",
        "  return elem is float or elem is int\n",
        "\n",
        "def is_categorical(elem):\n",
        "  return not is_numeric(elem)"
      ],
      "execution_count": null,
      "outputs": []
    },
    {
      "cell_type": "code",
      "metadata": {
        "id": "pXh8lGdu4xh4",
        "colab_type": "code",
        "colab": {}
      },
      "source": [
        "from sklearn.model_selection import GridSearchCV\n",
        "\n",
        "def train_model(model, dataframe_train, dataframe_train_target):\n",
        "  return model.fit(dataframe_train, dataframe_train_target)"
      ],
      "execution_count": null,
      "outputs": []
    },
    {
      "cell_type": "code",
      "metadata": {
        "id": "_mtvuGE95XgY",
        "colab_type": "code",
        "colab": {}
      },
      "source": [
        "from sklearn.metrics import accuracy_score, balanced_accuracy_score, f1_score, classification_report, plot_confusion_matrix\n",
        "\n",
        "def print_test_model(model, dataframe_test, dataframe_test_target):\n",
        "  preds = model.predict(dataframe_test)\n",
        "  print('Test score: {}'.format(model.score(dataframe_test, dataframe_test_target)))\n",
        " \n",
        "  print(classification_report(dataframe_test_target, preds))"
      ],
      "execution_count": null,
      "outputs": []
    },
    {
      "cell_type": "markdown",
      "metadata": {
        "id": "KvabuvzMijfD",
        "colab_type": "text"
      },
      "source": [
        "# Esecuzione"
      ]
    },
    {
      "cell_type": "code",
      "metadata": {
        "id": "Tr1o_OB9ik78",
        "colab_type": "code",
        "colab": {}
      },
      "source": [
        "## MISCELLANEOUS ###############################################################\n",
        "\n",
        "# Readable float \n",
        "np.set_printoptions(precision=3, suppress=True)\n",
        "\n",
        "################################################################################"
      ],
      "execution_count": null,
      "outputs": []
    },
    {
      "cell_type": "code",
      "metadata": {
        "id": "PJhX6GtOgbiA",
        "colab_type": "code",
        "colab": {}
      },
      "source": [
        "## MANUAL INTERVENTION #########################################################\n",
        "\n",
        "dataframe_train_path = \"train.csv\"\n",
        "dataframe_test_path = \"test.csv\"\n",
        "\n",
        "################################################################################\n",
        "\n",
        "## EXECUTION ###################################################################\n",
        "\n",
        "dataframe_train, dataframe_test = io_load_multiple_csv([dataframe_train_path, \n",
        "                                                        dataframe_test_path])\n",
        "\n",
        "################################################################################"
      ],
      "execution_count": null,
      "outputs": []
    },
    {
      "cell_type": "code",
      "metadata": {
        "id": "MDPjs4TCx9sa",
        "colab_type": "code",
        "colab": {}
      },
      "source": [
        "dataframe_train.head()"
      ],
      "execution_count": null,
      "outputs": []
    },
    {
      "cell_type": "code",
      "metadata": {
        "id": "EuM7YKJ2FFHO",
        "colab_type": "code",
        "colab": {}
      },
      "source": [
        "## MANUAL INTERVENTION #########################################################\n",
        "\n",
        "nan_list = [\n",
        "            \"\", \n",
        "            \" \", \n",
        "            \"?\",\n",
        "            \"unknown\"\n",
        "] # All the ways a nan element appears inside the dataframe\n",
        "\n",
        "feature_target = \"No-show\"\n",
        "\n",
        "################################################################################\n",
        "\n",
        "## EXECUTION ###################################################################\n",
        "\n",
        "# Clean the dataframe from nan values\n",
        "dataframe_train = normalize_nan(dataframe_train, nan_list)\n",
        "dataframe_test = normalize_nan(dataframe_test, nan_list)\n",
        "\n",
        "# Print dataframe's infographic\n",
        "print_infos(dataframe_train)\n",
        "\n",
        "################################################################################"
      ],
      "execution_count": null,
      "outputs": []
    },
    {
      "cell_type": "code",
      "metadata": {
        "id": "2YwnlUJUF2yP",
        "colab_type": "code",
        "colab": {}
      },
      "source": [
        "## MANUAL INTERVENTION #########################################################\n",
        "\n",
        "useless_list = [\n",
        "                \"AppointmentID\"  \n",
        "                \"ScheduledDay\"     \n",
        "] # All the meaningless attributes in relation to the prediction \n",
        "\n",
        "################################################################################\n",
        "\n",
        "## EXECUTION ###################################################################\n",
        "\n",
        "# Clean the dataframe from meningless features\n",
        "dataframe_train = clean_useless(dataframe_train, useless_list)\n",
        "dataframe_test = clean_useless(dataframe_test, useless_list)\n",
        "\n",
        "# Add some useful features\n",
        "dataframe_train = add_diffence_scheduled_appointment_day(dataframe_train)\n",
        "dataframe_test = add_diffence_scheduled_appointment_day(dataframe_test)\n",
        "\n",
        "################################################################################\n"
      ],
      "execution_count": null,
      "outputs": []
    },
    {
      "cell_type": "code",
      "metadata": {
        "id": "VVf94hWA3yEA",
        "colab_type": "code",
        "colab": {}
      },
      "source": [
        "from sklearn.preprocessing import LabelEncoder\n",
        "\n",
        "## MANUAL INTERVENTION #########################################################\n",
        "\n",
        "feature_target = \"No-show\"\n",
        "\n",
        "################################################################################\n",
        "\n",
        "## TARGET PREPARATION ##########################################################\n",
        "\n",
        "le = LabelEncoder()\n",
        "\n",
        "dataframe_train_target = le.fit_transform(dataframe_train.pop(feature_target))\n",
        "dataframe_test_target = le.transform(dataframe_test.pop(feature_target))\n",
        "\n",
        "################################################################################"
      ],
      "execution_count": null,
      "outputs": []
    },
    {
      "cell_type": "code",
      "metadata": {
        "id": "IYkMADTVMvi6",
        "colab_type": "code",
        "colab": {
          "base_uri": "https://localhost:8080/",
          "height": 187
        },
        "outputId": "3d789124-67df-4436-ffe2-354fb98936bb"
      },
      "source": [
        "## CLASSIFIER ##################################################################\n",
        "\n",
        "# Create the classifier\n",
        "classifier = create_model(dataframe_train)\n",
        "\n",
        "# Train the classifier\n",
        "classifier = train_model(classifier, dataframe_train, dataframe_train_target)\n",
        "\n",
        "# Test the classifier\n",
        "print_test_model(classifier, dataframe_test, dataframe_test_target)\n",
        "\n",
        "################################################################################"
      ],
      "execution_count": null,
      "outputs": [
        {
          "output_type": "stream",
          "text": [
            "Test score: 0.8048063330506079\n",
            "              precision    recall  f1-score   support\n",
            "\n",
            "           0       0.80      1.00      0.89     14119\n",
            "           1       0.82      0.04      0.08      3566\n",
            "\n",
            "    accuracy                           0.80     17685\n",
            "   macro avg       0.81      0.52      0.48     17685\n",
            "weighted avg       0.81      0.80      0.73     17685\n",
            "\n"
          ],
          "name": "stdout"
        }
      ]
    }
  ]
}