{
  "nbformat": 4,
  "nbformat_minor": 0,
  "metadata": {
    "colab": {
      "name": "addestramento-v2.ipynb",
      "provenance": [],
      "collapsed_sections": [],
      "mount_file_id": "1zWS6KqmE1EEnTPyyrYRweDfthsRbMHtV",
      "authorship_tag": "ABX9TyMe1+TKNbxtTvGeh97qvXaI",
      "include_colab_link": true
    },
    "kernelspec": {
      "name": "python3",
      "display_name": "Python 3"
    }
  },
  "cells": [
    {
      "cell_type": "markdown",
      "metadata": {
        "id": "view-in-github",
        "colab_type": "text"
      },
      "source": [
        "<a href=\"https://colab.research.google.com/github/DunkleCat/ia-esame/blob/master/training.ipynb\" target=\"_parent\"><img src=\"https://colab.research.google.com/assets/colab-badge.svg\" alt=\"Open In Colab\"/></a>"
      ]
    },
    {
      "cell_type": "markdown",
      "metadata": {
        "id": "hbnDWeBAhNZU",
        "colab_type": "text"
      },
      "source": [
        "# Caricamento del dataframe"
      ]
    },
    {
      "cell_type": "code",
      "metadata": {
        "id": "KGwiLbchbJ6g",
        "colab_type": "code",
        "colab": {}
      },
      "source": [
        "import pandas as pd\n",
        "\n",
        "def io_load_multiple_csv(csv_path_list):\n",
        "  dataframe_list = []\n",
        "  for elem in csv_path_list:\n",
        "    dataframe_list.append(io_load_csv(elem))\n",
        "  return dataframe_list\n",
        "\n",
        "def io_load_csv(csv_path):\n",
        "  return pd.read_csv(csv_path)  "
      ],
      "execution_count": 129,
      "outputs": []
    },
    {
      "cell_type": "markdown",
      "metadata": {
        "id": "xqaGCvdyhVGY",
        "colab_type": "text"
      },
      "source": [
        "# Analisi del Dataset\n"
      ]
    },
    {
      "cell_type": "markdown",
      "metadata": {
        "id": "3ENAcUFdkRPM",
        "colab_type": "text"
      },
      "source": [
        "## Pulizia valori nulli"
      ]
    },
    {
      "cell_type": "markdown",
      "metadata": {
        "id": "abfKiypPh7kW",
        "colab_type": "text"
      },
      "source": [
        "Come primo passaggio cerchiamo di sfruttare le potenzialità di sklearn per recuperare tutte quelle righe che presentano valori nulli e renderle valide.\n"
      ]
    },
    {
      "cell_type": "code",
      "metadata": {
        "id": "XoNYh4_miEiI",
        "colab_type": "code",
        "colab": {}
      },
      "source": [
        "#from sklearn.impute import SimpleImputer\n",
        "import numpy as np\n",
        "\n",
        "def normalize_nan(dataframe, nan_list):\n",
        "  for elem in nan_list:\n",
        "    dataframe.replace(elem, np.nan, inplace=True)\n",
        "  #imp = SimpleImputer(missing_values=np.nan, strategy='mean')\n",
        "  #imp.fit(dataframe)\n",
        "  return dataframe"
      ],
      "execution_count": 130,
      "outputs": []
    },
    {
      "cell_type": "markdown",
      "metadata": {
        "id": "_0ftIA-IkVeG",
        "colab_type": "text"
      },
      "source": [
        "## Pulizia colonne poco significative"
      ]
    },
    {
      "cell_type": "markdown",
      "metadata": {
        "id": "qqdINduvkkh6",
        "colab_type": "text"
      },
      "source": [
        "Passiamo ora ad analizzare i dati in ingresso e trovare colonne che molto probabilmente non ci aiuteranno nella previsione"
      ]
    },
    {
      "cell_type": "code",
      "metadata": {
        "id": "pZaFwM8jhcUE",
        "colab_type": "code",
        "colab": {}
      },
      "source": [
        "def print_infos(dataframe):\n",
        "  print(\"Dataframe miscellaneous:\\n\")\n",
        "  print(\"Rows     : {}\".format(dataframe.shape[0]) )\n",
        "  print(\"Columns  : {}\".format(dataframe.shape[1]))\n",
        "  print(\"\\nFeatures :\\n{}\".format(dataframe.columns.tolist()))\n",
        "  print(\"\\nUnique values :\\n{}\".format(dataframe.nunique()))\n",
        "\n",
        "  print(\"\\nDataframe info:\")\n",
        "  dataframe.info()"
      ],
      "execution_count": 131,
      "outputs": []
    },
    {
      "cell_type": "code",
      "metadata": {
        "id": "wWbBWC5Zk_Gk",
        "colab_type": "code",
        "colab": {}
      },
      "source": [
        "import matplotlib.pyplot as plt\n",
        "import seaborn as sb\n",
        "\n",
        "def print_feature_plots(dataframe, feature_list, feature_target):\n",
        "  for elem in dataframe:\n",
        "    if elem in feature_list:\n",
        "      plot = sb.catplot(x = feature_target, \n",
        "                        col = elem, \n",
        "                        data = dataframe, \n",
        "                        kind = 'count')\n",
        "    plt.show()"
      ],
      "execution_count": 132,
      "outputs": []
    },
    {
      "cell_type": "code",
      "metadata": {
        "id": "EouVsndIqn4U",
        "colab_type": "code",
        "colab": {}
      },
      "source": [
        "def clean_useless(dataframe, useless_list):\n",
        "  for elem in useless_list:\n",
        "    dataframe.pop(elem)\n",
        "  return dataframe"
      ],
      "execution_count": 133,
      "outputs": []
    },
    {
      "cell_type": "markdown",
      "metadata": {
        "id": "NtLN0E8muESH",
        "colab_type": "text"
      },
      "source": [
        "## Da semplici dati a numeri utili"
      ]
    },
    {
      "cell_type": "markdown",
      "metadata": {
        "id": "IRSOcDJ_GzV6",
        "colab_type": "text"
      },
      "source": [
        "Per ogni colonna presente nel dataset, ogni suo elemento viene trasformato in un intero corrispondente ad una classe della colonna stessa, se non è già un numero."
      ]
    },
    {
      "cell_type": "code",
      "metadata": {
        "id": "HaqxQTkIuGcM",
        "colab_type": "code",
        "colab": {}
      },
      "source": [
        "from sklearn.preprocessing import LabelEncoder\n",
        "\n",
        "def attributes_to_float(dataframe):\n",
        "  le_dict = {}\n",
        "  for elem in dataframe:\n",
        "    if type(dataframe[elem][1]) is str:\n",
        "      le_dict[elem] = LabelEncoder()\n",
        "      dataframe[elem] = le_dict[elem].fit_transform(dataframe[elem])\n",
        "\n",
        "  return dataframe, le_dict"
      ],
      "execution_count": 134,
      "outputs": []
    },
    {
      "cell_type": "markdown",
      "metadata": {
        "id": "SxvzyeTI4hiU",
        "colab_type": "text"
      },
      "source": [
        "# Modello"
      ]
    },
    {
      "cell_type": "code",
      "metadata": {
        "id": "-8zabkrb4pKS",
        "colab_type": "code",
        "colab": {}
      },
      "source": [
        "from sklearn.pipeline import Pipeline, FeatureUnion\n",
        "from sklearn.impute import SimpleImputer, MissingIndicator\n",
        "from sklearn.compose import ColumnTransformer\n",
        "from sklearn.preprocessing import StandardScaler, OneHotEncoder\n",
        "from sklearn.decomposition import PCA, TruncatedSVD\n",
        "from sklearn.linear_model import Ridge \n",
        "from sklearn.ensemble import RandomForestClassifier\n",
        "\n",
        "# TODO ordine alfabetico\n",
        "\n",
        "def create_model(dataframe):\n",
        "  #imputer = FeatureUnion( \n",
        "  #    transformer_list=[('features', SimpleImputer(strategy='mean')), \n",
        "  #                      ('indicators', MissingIndicator())])\n",
        "  \n",
        "  numeric_features = get_numeric_features(dataframe)\n",
        "  numeric_transformer = Pipeline(\n",
        "      steps=[('imputer', SimpleImputer(strategy='median')),\n",
        "             ('scaler', StandardScaler())])\n",
        "  \n",
        "  categorical_features = get_categorical_features(dataframe)\n",
        "  categorical_transformer = Pipeline(\n",
        "      steps=[#('imputer', SimpleImputer(strategy='constant', fill_value='missing')),\n",
        "             ('imputer', SimpleImputer(strategy='most_frequent')),\n",
        "             #('onehot', OneHotEncoder(drop='first', handle_unknown='error'))])\n",
        "             ('onehot', OneHotEncoder(handle_unknown='ignore'))])\n",
        "\n",
        "  preprocessor = ColumnTransformer(\n",
        "      transformers=[('num', numeric_transformer, numeric_features),\n",
        "                    ('cat', categorical_transformer, categorical_features)])\n",
        "\n",
        "  reduce_dim = TruncatedSVD()\n",
        "\n",
        "  classifier = RandomForestClassifier()\n",
        "\n",
        "  return Pipeline([#('imputer', imputer),\n",
        "                   #('fix_mixed_types', fix_mixed_types),\n",
        "                   #('scaler', scaler),\n",
        "                   ('preprocessor', preprocessor),\n",
        "                   ('reduce_dim', reduce_dim),\n",
        "                   ('classifier', classifier)\n",
        "                   ])\n",
        "\n",
        "def get_numeric_features(dataframe):\n",
        "  numeric_features = []\n",
        "  for elem in dataframe:\n",
        "    if is_numeric(dataframe[elem]):\n",
        "      numeric_features.append(elem)\n",
        "  return numeric_features\n",
        "\n",
        "def get_categorical_features(dataframe):\n",
        "  categorical_features = []\n",
        "  for elem in dataframe:\n",
        "    if is_categorical(dataframe[elem]):\n",
        "      categorical_features.append(elem)\n",
        "  return categorical_features\n",
        "\n",
        "def is_numeric(elem):\n",
        "  return elem is float\n",
        "\n",
        "def is_categorical(elem):\n",
        "  return not is_numeric(elem)"
      ],
      "execution_count": 135,
      "outputs": []
    },
    {
      "cell_type": "code",
      "metadata": {
        "id": "BcY6PnOza8gG",
        "colab_type": "code",
        "colab": {}
      },
      "source": [
        "from sklearn import set_config\n",
        "\n",
        "def print_model(model):\n",
        "  #set_config(display='diagram')\n",
        "  model"
      ],
      "execution_count": 136,
      "outputs": []
    },
    {
      "cell_type": "code",
      "metadata": {
        "id": "pXh8lGdu4xh4",
        "colab_type": "code",
        "colab": {}
      },
      "source": [
        "from sklearn.model_selection import GridSearchCV\n",
        "\n",
        "def train_model(model, dataframe_train, dataframe_train_target):\n",
        "  return model.fit(dataframe_train, dataframe_train_target)\n",
        "  #n_features_to_test = np.arange(1, 11)\n",
        "  #alpha_to_test = 2.0**np.arange(-6, +6)\n",
        "  #params = {\n",
        "  #    'reduce_dim__n_components': n_features_to_test, \n",
        "  #    'regressor__alpha': alpha_to_test\n",
        "  #    }\n",
        "  #return GridSearchCV(model, params, verbose=1).fit(dataframe_train, \n",
        "  #                                                  dataframe_train_target)"
      ],
      "execution_count": 137,
      "outputs": []
    },
    {
      "cell_type": "code",
      "metadata": {
        "id": "_mtvuGE95XgY",
        "colab_type": "code",
        "colab": {}
      },
      "source": [
        "def print_test_model(model, dataframe_test, dataframe_test_target):\n",
        "  print('Test Score: {}'.format(model.score(dataframe_test, \n",
        "                                               dataframe_test_target)))\n",
        "  #print('Best params: {}'.format(model.best_params_))"
      ],
      "execution_count": 138,
      "outputs": []
    },
    {
      "cell_type": "markdown",
      "metadata": {
        "id": "KvabuvzMijfD",
        "colab_type": "text"
      },
      "source": [
        "# Esecuzione"
      ]
    },
    {
      "cell_type": "markdown",
      "metadata": {
        "id": "dGY5l2stAHSO",
        "colab_type": "text"
      },
      "source": [
        "\n",
        "\n"
      ]
    },
    {
      "cell_type": "code",
      "metadata": {
        "id": "Tr1o_OB9ik78",
        "colab_type": "code",
        "colab": {}
      },
      "source": [
        "## MISCELLANEOUS ###############################################################\n",
        "\n",
        "# Rende i numeri a virgola mobile più leggibili\n",
        "np.set_printoptions(precision=3, suppress=True)\n",
        "\n",
        "################################################################################"
      ],
      "execution_count": 139,
      "outputs": []
    },
    {
      "cell_type": "code",
      "metadata": {
        "id": "PJhX6GtOgbiA",
        "colab_type": "code",
        "colab": {}
      },
      "source": [
        "## MANUAL INTERVENTION #########################################################\n",
        "\n",
        "dataframe_train_path = \"./dataframe_train.csv\"\n",
        "dataframe_test_path = \"./dataframe_test.csv\"\n",
        "#dataframe_train_path = \"/content/drive/My Drive/datasets/dataframe_train.csv\"\n",
        "#dataframe_test_path = \"/content/drive/My Drive/datasets/dataframe_test.csv\"\n",
        "\n",
        "################################################################################\n",
        "\n",
        "## EXECUTION ###################################################################\n",
        "\n",
        "\n",
        "#dataframe_train = io_load_csv(dataframe_train_path)\n",
        "#dataframe_test = io_load_csv(dataframe_test_path)\n",
        "\n",
        "dataframe_train, dataframe_test = io_load_multiple_csv([dataframe_train_path, \n",
        "                                                        dataframe_test_path])\n",
        "\n",
        "################################################################################"
      ],
      "execution_count": 140,
      "outputs": []
    },
    {
      "cell_type": "code",
      "metadata": {
        "id": "MDPjs4TCx9sa",
        "colab_type": "code",
        "colab": {
          "base_uri": "https://localhost:8080/",
          "height": 785
        },
        "outputId": "7873cd92-296b-4389-e433-47d3943efd5e"
      },
      "source": [
        "dataframe_train.info()\n",
        "dataframe_train.head()"
      ],
      "execution_count": 141,
      "outputs": [
        {
          "output_type": "stream",
          "text": [
            "<class 'pandas.core.frame.DataFrame'>\n",
            "RangeIndex: 6499 entries, 0 to 6498\n",
            "Data columns (total 23 columns):\n",
            " #   Column                    Non-Null Count  Dtype \n",
            "---  ------                    --------------  ----- \n",
            " 0   class_edible              6499 non-null   object\n",
            " 1   cap-shape                 6499 non-null   object\n",
            " 2   cap-surface               6499 non-null   object\n",
            " 3   cap-color                 6499 non-null   object\n",
            " 4   bruises                   6499 non-null   object\n",
            " 5   odor                      6499 non-null   object\n",
            " 6   gill-attachment           6499 non-null   object\n",
            " 7   gill-spacing              6499 non-null   object\n",
            " 8   gill-size                 6499 non-null   object\n",
            " 9   gill-color                6499 non-null   object\n",
            " 10  stalk-shape               6499 non-null   object\n",
            " 11  stalk-root                6499 non-null   object\n",
            " 12  stalk-surface-above-ring  6499 non-null   object\n",
            " 13  stalk-surface-below-ring  6499 non-null   object\n",
            " 14  stalk-color-above-ring    6499 non-null   object\n",
            " 15  stalk-color-below-ring    6499 non-null   object\n",
            " 16  veil-type                 6499 non-null   object\n",
            " 17  veil-color                6499 non-null   object\n",
            " 18  ring-number               6499 non-null   object\n",
            " 19  ring-type                 6499 non-null   object\n",
            " 20  spore-print-color         6499 non-null   object\n",
            " 21  population                6499 non-null   object\n",
            " 22  habitat                   6499 non-null   object\n",
            "dtypes: object(23)\n",
            "memory usage: 1.1+ MB\n"
          ],
          "name": "stdout"
        },
        {
          "output_type": "execute_result",
          "data": {
            "text/html": [
              "<div>\n",
              "<style scoped>\n",
              "    .dataframe tbody tr th:only-of-type {\n",
              "        vertical-align: middle;\n",
              "    }\n",
              "\n",
              "    .dataframe tbody tr th {\n",
              "        vertical-align: top;\n",
              "    }\n",
              "\n",
              "    .dataframe thead th {\n",
              "        text-align: right;\n",
              "    }\n",
              "</style>\n",
              "<table border=\"1\" class=\"dataframe\">\n",
              "  <thead>\n",
              "    <tr style=\"text-align: right;\">\n",
              "      <th></th>\n",
              "      <th>class_edible</th>\n",
              "      <th>cap-shape</th>\n",
              "      <th>cap-surface</th>\n",
              "      <th>cap-color</th>\n",
              "      <th>bruises</th>\n",
              "      <th>odor</th>\n",
              "      <th>gill-attachment</th>\n",
              "      <th>gill-spacing</th>\n",
              "      <th>gill-size</th>\n",
              "      <th>gill-color</th>\n",
              "      <th>stalk-shape</th>\n",
              "      <th>stalk-root</th>\n",
              "      <th>stalk-surface-above-ring</th>\n",
              "      <th>stalk-surface-below-ring</th>\n",
              "      <th>stalk-color-above-ring</th>\n",
              "      <th>stalk-color-below-ring</th>\n",
              "      <th>veil-type</th>\n",
              "      <th>veil-color</th>\n",
              "      <th>ring-number</th>\n",
              "      <th>ring-type</th>\n",
              "      <th>spore-print-color</th>\n",
              "      <th>population</th>\n",
              "      <th>habitat</th>\n",
              "    </tr>\n",
              "  </thead>\n",
              "  <tbody>\n",
              "    <tr>\n",
              "      <th>0</th>\n",
              "      <td>p</td>\n",
              "      <td>x</td>\n",
              "      <td>s</td>\n",
              "      <td>p</td>\n",
              "      <td>f</td>\n",
              "      <td>c</td>\n",
              "      <td>f</td>\n",
              "      <td>c</td>\n",
              "      <td>n</td>\n",
              "      <td>p</td>\n",
              "      <td>e</td>\n",
              "      <td>b</td>\n",
              "      <td>s</td>\n",
              "      <td>s</td>\n",
              "      <td>w</td>\n",
              "      <td>w</td>\n",
              "      <td>p</td>\n",
              "      <td>w</td>\n",
              "      <td>o</td>\n",
              "      <td>p</td>\n",
              "      <td>k</td>\n",
              "      <td>v</td>\n",
              "      <td>d</td>\n",
              "    </tr>\n",
              "    <tr>\n",
              "      <th>1</th>\n",
              "      <td>e</td>\n",
              "      <td>x</td>\n",
              "      <td>y</td>\n",
              "      <td>y</td>\n",
              "      <td>t</td>\n",
              "      <td>a</td>\n",
              "      <td>f</td>\n",
              "      <td>c</td>\n",
              "      <td>b</td>\n",
              "      <td>w</td>\n",
              "      <td>e</td>\n",
              "      <td>c</td>\n",
              "      <td>s</td>\n",
              "      <td>s</td>\n",
              "      <td>w</td>\n",
              "      <td>w</td>\n",
              "      <td>p</td>\n",
              "      <td>w</td>\n",
              "      <td>o</td>\n",
              "      <td>p</td>\n",
              "      <td>n</td>\n",
              "      <td>s</td>\n",
              "      <td>m</td>\n",
              "    </tr>\n",
              "    <tr>\n",
              "      <th>2</th>\n",
              "      <td>p</td>\n",
              "      <td>f</td>\n",
              "      <td>y</td>\n",
              "      <td>e</td>\n",
              "      <td>f</td>\n",
              "      <td>y</td>\n",
              "      <td>f</td>\n",
              "      <td>c</td>\n",
              "      <td>n</td>\n",
              "      <td>b</td>\n",
              "      <td>t</td>\n",
              "      <td>?</td>\n",
              "      <td>k</td>\n",
              "      <td>k</td>\n",
              "      <td>w</td>\n",
              "      <td>p</td>\n",
              "      <td>p</td>\n",
              "      <td>w</td>\n",
              "      <td>o</td>\n",
              "      <td>e</td>\n",
              "      <td>w</td>\n",
              "      <td>v</td>\n",
              "      <td>p</td>\n",
              "    </tr>\n",
              "    <tr>\n",
              "      <th>3</th>\n",
              "      <td>p</td>\n",
              "      <td>f</td>\n",
              "      <td>s</td>\n",
              "      <td>n</td>\n",
              "      <td>f</td>\n",
              "      <td>y</td>\n",
              "      <td>f</td>\n",
              "      <td>c</td>\n",
              "      <td>n</td>\n",
              "      <td>b</td>\n",
              "      <td>t</td>\n",
              "      <td>?</td>\n",
              "      <td>k</td>\n",
              "      <td>k</td>\n",
              "      <td>w</td>\n",
              "      <td>p</td>\n",
              "      <td>p</td>\n",
              "      <td>w</td>\n",
              "      <td>o</td>\n",
              "      <td>e</td>\n",
              "      <td>w</td>\n",
              "      <td>v</td>\n",
              "      <td>d</td>\n",
              "    </tr>\n",
              "    <tr>\n",
              "      <th>4</th>\n",
              "      <td>e</td>\n",
              "      <td>b</td>\n",
              "      <td>f</td>\n",
              "      <td>w</td>\n",
              "      <td>f</td>\n",
              "      <td>n</td>\n",
              "      <td>f</td>\n",
              "      <td>w</td>\n",
              "      <td>b</td>\n",
              "      <td>g</td>\n",
              "      <td>e</td>\n",
              "      <td>?</td>\n",
              "      <td>s</td>\n",
              "      <td>k</td>\n",
              "      <td>w</td>\n",
              "      <td>w</td>\n",
              "      <td>p</td>\n",
              "      <td>w</td>\n",
              "      <td>t</td>\n",
              "      <td>p</td>\n",
              "      <td>w</td>\n",
              "      <td>s</td>\n",
              "      <td>g</td>\n",
              "    </tr>\n",
              "  </tbody>\n",
              "</table>\n",
              "</div>"
            ],
            "text/plain": [
              "  class_edible cap-shape cap-surface  ... spore-print-color population habitat\n",
              "0            p         x           s  ...                 k          v       d\n",
              "1            e         x           y  ...                 n          s       m\n",
              "2            p         f           y  ...                 w          v       p\n",
              "3            p         f           s  ...                 w          v       d\n",
              "4            e         b           f  ...                 w          s       g\n",
              "\n",
              "[5 rows x 23 columns]"
            ]
          },
          "metadata": {
            "tags": []
          },
          "execution_count": 141
        }
      ]
    },
    {
      "cell_type": "code",
      "metadata": {
        "id": "EuM7YKJ2FFHO",
        "colab_type": "code",
        "colab": {
          "base_uri": "https://localhost:8080/",
          "height": 1000
        },
        "outputId": "f89adb78-8146-498b-8874-64330815da3e"
      },
      "source": [
        "## MANUAL INTERVENTION #########################################################\n",
        "\n",
        "nan_list = [\n",
        "            \"\", \n",
        "            \" \", \n",
        "            \"?\",\n",
        "            \"unknown\"\n",
        "] # All the ways a nan element appears inside the dataframe\n",
        "\n",
        "feature_list = [\n",
        "\n",
        "] # All the useful features to plot \n",
        "\n",
        "feature_target = \"\"\n",
        "\n",
        "################################################################################\n",
        "\n",
        "## EXECUTION ###################################################################\n",
        "\n",
        "# TODO Investigare l'utilizzo di map che ritorna valori _o_ \n",
        "#      substitute che agisce in utomatico senza a = a.sub(b)\n",
        "\n",
        "# Clean the dataframe from nan values\n",
        "dataframe_train = normalize_nan(dataframe_train, nan_list)\n",
        "dataframe_test = normalize_nan(dataframe_test, nan_list)\n",
        "\n",
        "# Print dataframe's infographic\n",
        "print_infos(dataframe_train)\n",
        "print_feature_plots(dataframe_train, feature_list, feature_target)\n",
        "\n",
        "################################################################################"
      ],
      "execution_count": 142,
      "outputs": [
        {
          "output_type": "stream",
          "text": [
            "Dataframe miscellaneous:\n",
            "\n",
            "Rows     : 6499\n",
            "Columns  : 23\n",
            "\n",
            "Features :\n",
            "['class_edible', 'cap-shape', 'cap-surface', 'cap-color', 'bruises', 'odor', 'gill-attachment', 'gill-spacing', 'gill-size', 'gill-color', 'stalk-shape', 'stalk-root', 'stalk-surface-above-ring', 'stalk-surface-below-ring', 'stalk-color-above-ring', 'stalk-color-below-ring', 'veil-type', 'veil-color', 'ring-number', 'ring-type', 'spore-print-color', 'population', 'habitat']\n",
            "\n",
            "Unique values :\n",
            "class_edible                 2\n",
            "cap-shape                    6\n",
            "cap-surface                  4\n",
            "cap-color                   10\n",
            "bruises                      2\n",
            "odor                         9\n",
            "gill-attachment              2\n",
            "gill-spacing                 2\n",
            "gill-size                    2\n",
            "gill-color                  12\n",
            "stalk-shape                  2\n",
            "stalk-root                   4\n",
            "stalk-surface-above-ring     4\n",
            "stalk-surface-below-ring     4\n",
            "stalk-color-above-ring       9\n",
            "stalk-color-below-ring       9\n",
            "veil-type                    1\n",
            "veil-color                   4\n",
            "ring-number                  3\n",
            "ring-type                    5\n",
            "spore-print-color            9\n",
            "population                   6\n",
            "habitat                      7\n",
            "dtype: int64\n",
            "\n",
            "Dataframe info:\n",
            "<class 'pandas.core.frame.DataFrame'>\n",
            "RangeIndex: 6499 entries, 0 to 6498\n",
            "Data columns (total 23 columns):\n",
            " #   Column                    Non-Null Count  Dtype \n",
            "---  ------                    --------------  ----- \n",
            " 0   class_edible              6499 non-null   object\n",
            " 1   cap-shape                 6499 non-null   object\n",
            " 2   cap-surface               6499 non-null   object\n",
            " 3   cap-color                 6499 non-null   object\n",
            " 4   bruises                   6499 non-null   object\n",
            " 5   odor                      6499 non-null   object\n",
            " 6   gill-attachment           6499 non-null   object\n",
            " 7   gill-spacing              6499 non-null   object\n",
            " 8   gill-size                 6499 non-null   object\n",
            " 9   gill-color                6499 non-null   object\n",
            " 10  stalk-shape               6499 non-null   object\n",
            " 11  stalk-root                4521 non-null   object\n",
            " 12  stalk-surface-above-ring  6499 non-null   object\n",
            " 13  stalk-surface-below-ring  6499 non-null   object\n",
            " 14  stalk-color-above-ring    6499 non-null   object\n",
            " 15  stalk-color-below-ring    6499 non-null   object\n",
            " 16  veil-type                 6499 non-null   object\n",
            " 17  veil-color                6499 non-null   object\n",
            " 18  ring-number               6499 non-null   object\n",
            " 19  ring-type                 6499 non-null   object\n",
            " 20  spore-print-color         6499 non-null   object\n",
            " 21  population                6499 non-null   object\n",
            " 22  habitat                   6499 non-null   object\n",
            "dtypes: object(23)\n",
            "memory usage: 1.1+ MB\n"
          ],
          "name": "stdout"
        }
      ]
    },
    {
      "cell_type": "code",
      "metadata": {
        "id": "2YwnlUJUF2yP",
        "colab_type": "code",
        "colab": {}
      },
      "source": [
        "## MANUAL INTERVENTION #########################################################\n",
        "\n",
        "useless_list = [\n",
        "                \n",
        "] # All the meaningless attributes in relation to the prediction \n",
        "\n",
        "################################################################################\n",
        "\n",
        "## EXECUTION ###################################################################\n",
        "\n",
        "# Clean the dataframe from meningless attributes\n",
        "dataframe_train = clean_useless(dataframe_train, useless_list)\n",
        "dataframe_test = clean_useless(dataframe_test, useless_list)\n",
        "\n",
        "# Transform every column in a float value\n",
        "# dataframe_train, label_encoder_dict = attributes_to_float(dataframe_train)\n",
        "\n",
        "################################################################################"
      ],
      "execution_count": 143,
      "outputs": []
    },
    {
      "cell_type": "code",
      "metadata": {
        "id": "VVf94hWA3yEA",
        "colab_type": "code",
        "colab": {
          "base_uri": "https://localhost:8080/",
          "height": 34
        },
        "outputId": "9778b12d-01ca-4f68-ed81-fac233222dd1"
      },
      "source": [
        "from sklearn.preprocessing import LabelBinarizer, LabelEncoder\n",
        "\n",
        "\n",
        "## MANUAL INTERVENTION #########################################################\n",
        "\n",
        "target_label = \"class_edible\"\n",
        "\n",
        "################################################################################\n",
        "\n",
        "## EXECUTION ###################################################################\n",
        "\n",
        "# lb = LabelBinarizer()\n",
        "le = LabelEncoder()\n",
        "\n",
        "# dataframe_train_target = lb.fit_transform(dataframe_train.pop(target_label))\n",
        "# dataframe_test_target = lb.fit_transform(dataframe_test.pop(target_label))\n",
        "\n",
        "dataframe_train_target = le.fit_transform(dataframe_train.pop(target_label))\n",
        "dataframe_test_target = le.fit_transform(dataframe_test.pop(target_label))\n",
        "\n",
        "# Create the model\n",
        "model = create_model(dataframe_train)\n",
        "print_model(model)\n",
        "\n",
        "# Train the model\n",
        "model = train_model(model, dataframe_train, dataframe_train_target)\n",
        "\n",
        "# Test the model\n",
        "print_test_model(model, dataframe_test, dataframe_test_target)\n",
        "\n",
        "################################################################################"
      ],
      "execution_count": 144,
      "outputs": [
        {
          "output_type": "stream",
          "text": [
            "Test Score: 0.9661538461538461\n"
          ],
          "name": "stdout"
        }
      ]
    }
  ]
}