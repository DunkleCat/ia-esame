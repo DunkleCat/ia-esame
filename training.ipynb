{
  "nbformat": 4,
  "nbformat_minor": 0,
  "metadata": {
    "colab": {
      "name": "addestramento-v2.ipynb",
      "provenance": [],
      "collapsed_sections": [],
      "mount_file_id": "1zWS6KqmE1EEnTPyyrYRweDfthsRbMHtV",
      "authorship_tag": "ABX9TyNZjQx+OxsUyqPDqRevOHse",
      "include_colab_link": true
    },
    "kernelspec": {
      "name": "python3",
      "display_name": "Python 3"
    }
  },
  "cells": [
    {
      "cell_type": "markdown",
      "metadata": {
        "id": "view-in-github",
        "colab_type": "text"
      },
      "source": [
        "<a href=\"https://colab.research.google.com/github/DunkleCat/ia-esame/blob/master/training.ipynb\" target=\"_parent\"><img src=\"https://colab.research.google.com/assets/colab-badge.svg\" alt=\"Open In Colab\"/></a>"
      ]
    },
    {
      "cell_type": "markdown",
      "metadata": {
        "id": "hbnDWeBAhNZU",
        "colab_type": "text"
      },
      "source": [
        "# Caricamento del dataframe"
      ]
    },
    {
      "cell_type": "code",
      "metadata": {
        "id": "KGwiLbchbJ6g",
        "colab_type": "code",
        "colab": {}
      },
      "source": [
        "import pandas as pd\n",
        "\n",
        "def io_load_multiple_csv(csv_path_list):\n",
        "  dataframe_list = []\n",
        "  for elem in csv_path_list:\n",
        "    dataframe_list.append(io_load_csv(elem))\n",
        "  return dataframe_list\n",
        "\n",
        "def io_load_csv(csv_path):\n",
        "  return pd.read_csv(csv_path)  "
      ],
      "execution_count": 69,
      "outputs": []
    },
    {
      "cell_type": "markdown",
      "metadata": {
        "id": "xqaGCvdyhVGY",
        "colab_type": "text"
      },
      "source": [
        "# Analisi del Dataset\n"
      ]
    },
    {
      "cell_type": "markdown",
      "metadata": {
        "id": "3ENAcUFdkRPM",
        "colab_type": "text"
      },
      "source": [
        "## Pulizia valori nulli"
      ]
    },
    {
      "cell_type": "markdown",
      "metadata": {
        "id": "abfKiypPh7kW",
        "colab_type": "text"
      },
      "source": [
        "Come primo passaggio cerchiamo di sfruttare le potenzialità di sklearn per recuperare tutte quelle righe che presentano valori nulli e renderle valide.\n"
      ]
    },
    {
      "cell_type": "code",
      "metadata": {
        "id": "XoNYh4_miEiI",
        "colab_type": "code",
        "colab": {}
      },
      "source": [
        "#from sklearn.impute import SimpleImputer\n",
        "import numpy as np\n",
        "\n",
        "def normalize_nan(dataframe, nan_list):\n",
        "  for elem in nan_list:\n",
        "    dataframe.replace(elem, np.nan, inplace=True)\n",
        "  #imp = SimpleImputer(missing_values=np.nan, strategy='mean')\n",
        "  #imp.fit(dataframe)\n",
        "  return dataframe"
      ],
      "execution_count": 70,
      "outputs": []
    },
    {
      "cell_type": "markdown",
      "metadata": {
        "id": "_0ftIA-IkVeG",
        "colab_type": "text"
      },
      "source": [
        "## Pulizia colonne poco significative"
      ]
    },
    {
      "cell_type": "markdown",
      "metadata": {
        "id": "qqdINduvkkh6",
        "colab_type": "text"
      },
      "source": [
        "Passiamo ora ad analizzare i dati in ingresso e trovare colonne che molto probabilmente non ci aiuteranno nella previsione"
      ]
    },
    {
      "cell_type": "code",
      "metadata": {
        "id": "pZaFwM8jhcUE",
        "colab_type": "code",
        "colab": {}
      },
      "source": [
        "def print_infos(dataframe):\n",
        "  print(\"Dataframe miscellaneous:\\n\")\n",
        "  print(\"Rows     : {}\".format(dataframe.shape[0]) )\n",
        "  print(\"Columns  : {}\".format(dataframe.shape[1]))\n",
        "  print(\"\\nFeatures :\\n{}\".format(dataframe.columns.tolist()))\n",
        "  print(\"\\nUnique values :\\n{}\".format(dataframe.nunique()))\n",
        "\n",
        "  print(\"\\nDataframe info:\")\n",
        "  dataframe.info()"
      ],
      "execution_count": 71,
      "outputs": []
    },
    {
      "cell_type": "code",
      "metadata": {
        "id": "wWbBWC5Zk_Gk",
        "colab_type": "code",
        "colab": {}
      },
      "source": [
        "import matplotlib.pyplot as plt\n",
        "import seaborn as sb\n",
        "\n",
        "def print_feature_plots(dataframe, feature_list, feature_target):\n",
        "  for elem in dataframe:\n",
        "    if elem in feature_list:\n",
        "      plot = sb.catplot(x = feature_target, \n",
        "                        col = elem, \n",
        "                        data = dataframe, \n",
        "                        kind = 'count')\n",
        "    plt.show()"
      ],
      "execution_count": 72,
      "outputs": []
    },
    {
      "cell_type": "code",
      "metadata": {
        "id": "EouVsndIqn4U",
        "colab_type": "code",
        "colab": {}
      },
      "source": [
        "def clean_useless(dataframe, useless_list):\n",
        "  for elem in useless_list:\n",
        "    dataframe.pop(elem)\n",
        "  return dataframe"
      ],
      "execution_count": 73,
      "outputs": []
    },
    {
      "cell_type": "markdown",
      "metadata": {
        "id": "NtLN0E8muESH",
        "colab_type": "text"
      },
      "source": [
        "## Da semplici dati a numeri utili"
      ]
    },
    {
      "cell_type": "markdown",
      "metadata": {
        "id": "IRSOcDJ_GzV6",
        "colab_type": "text"
      },
      "source": [
        "Per ogni colonna presente nel dataset, ogni suo elemento viene trasformato in un intero corrispondente ad una classe della colonna stessa, se non è già un numero."
      ]
    },
    {
      "cell_type": "code",
      "metadata": {
        "id": "HaqxQTkIuGcM",
        "colab_type": "code",
        "colab": {}
      },
      "source": [
        "from sklearn.preprocessing import LabelEncoder\n",
        "\n",
        "def attributes_to_float(dataframe):\n",
        "  le_dict = {}\n",
        "  for elem in dataframe:\n",
        "    if type(dataframe[elem][1]) is str:\n",
        "      le_dict[elem] = LabelEncoder()\n",
        "      dataframe[elem] = le_dict[elem].fit_transform(dataframe[elem])\n",
        "\n",
        "  return dataframe, le_dict"
      ],
      "execution_count": 74,
      "outputs": []
    },
    {
      "cell_type": "markdown",
      "metadata": {
        "id": "SxvzyeTI4hiU",
        "colab_type": "text"
      },
      "source": [
        "# Modello"
      ]
    },
    {
      "cell_type": "code",
      "metadata": {
        "id": "-8zabkrb4pKS",
        "colab_type": "code",
        "colab": {}
      },
      "source": [
        "from sklearn.pipeline import Pipeline, FeatureUnion\n",
        "from sklearn.impute import SimpleImputer, MissingIndicator\n",
        "from sklearn.compose import ColumnTransformer\n",
        "from sklearn.preprocessing import StandardScaler, OneHotEncoder\n",
        "from sklearn.decomposition import PCA, TruncatedSVD\n",
        "from sklearn.linear_model import Ridge \n",
        "from sklearn.ensemble import RandomForestClassifier\n",
        "\n",
        "# TODO ordine alfabetico\n",
        "\n",
        "def create_model(dataframe):\n",
        "  #imputer = FeatureUnion( \n",
        "  #    transformer_list=[('features', SimpleImputer(strategy='mean')), \n",
        "  #                      ('indicators', MissingIndicator())])\n",
        "  \n",
        "  numeric_features = get_numeric_features(dataframe)\n",
        "  numeric_transformer = Pipeline(\n",
        "      steps=[('imputer', SimpleImputer(strategy='median')),\n",
        "             ('scaler', StandardScaler())])\n",
        "  \n",
        "  categorical_features = get_categorical_features(dataframe)\n",
        "  categorical_transformer = Pipeline(\n",
        "      steps=[#('imputer', SimpleImputer(strategy='constant', fill_value='missing')),\n",
        "             ('imputer', SimpleImputer(strategy='most_frequent')),\n",
        "             #('onehot', OneHotEncoder(drop='first', handle_unknown='error'))])\n",
        "             ('onehot', OneHotEncoder(handle_unknown='ignore'))])\n",
        "\n",
        "  preprocessor = ColumnTransformer(\n",
        "      transformers=[('num', numeric_transformer, numeric_features),\n",
        "                    ('cat', categorical_transformer, categorical_features)])\n",
        "\n",
        "  reduce_dim = TruncatedSVD()\n",
        "\n",
        "  classifier = RandomForestClassifier()\n",
        "\n",
        "  regressor = Ridge()\n",
        "\n",
        "  return Pipeline([#('imputer', imputer),\n",
        "                   #('fix_mixed_types', fix_mixed_types),\n",
        "                   #('scaler', scaler),\n",
        "                   ('preprocessor', preprocessor),\n",
        "                   ('reduce_dim', reduce_dim),\n",
        "                   #('classifier', classifier)\n",
        "                   ('regressor', regressor)\n",
        "                   ])\n",
        "\n",
        "def get_numeric_features(dataframe):\n",
        "  numeric_features = []\n",
        "  for elem in dataframe:\n",
        "    if is_numeric(dataframe[elem]):\n",
        "      numeric_features.append(elem)\n",
        "  return numeric_features\n",
        "\n",
        "def get_categorical_features(dataframe):\n",
        "  categorical_features = []\n",
        "  for elem in dataframe:\n",
        "    if is_categorical(dataframe[elem]):\n",
        "      categorical_features.append(elem)\n",
        "  return categorical_features\n",
        "\n",
        "def is_numeric(elem):\n",
        "  return elem is float or elem is int\n",
        "\n",
        "def is_categorical(elem):\n",
        "  return not is_numeric(elem)"
      ],
      "execution_count": 75,
      "outputs": []
    },
    {
      "cell_type": "code",
      "metadata": {
        "id": "BcY6PnOza8gG",
        "colab_type": "code",
        "colab": {}
      },
      "source": [
        "from sklearn import set_config\n",
        "\n",
        "def print_model(model):\n",
        "  #set_config(display='diagram')\n",
        "  model"
      ],
      "execution_count": 76,
      "outputs": []
    },
    {
      "cell_type": "code",
      "metadata": {
        "id": "pXh8lGdu4xh4",
        "colab_type": "code",
        "colab": {}
      },
      "source": [
        "from sklearn.model_selection import GridSearchCV\n",
        "\n",
        "def train_model(model, dataframe_train, dataframe_train_target):\n",
        "  #return model.fit(dataframe_train, dataframe_train_target)\n",
        "  n_features_to_test = np.arange(1, dataframe_train.shape[1])\n",
        "  alpha_to_test = 2.0**np.arange(-6, +6)\n",
        "  params = {\n",
        "      'reduce_dim__n_components': n_features_to_test, \n",
        "      'regressor__alpha': alpha_to_test\n",
        "      }\n",
        "  return GridSearchCV(model, params, verbose=1).fit(dataframe_train, \n",
        "                                                    dataframe_train_target)"
      ],
      "execution_count": 77,
      "outputs": []
    },
    {
      "cell_type": "code",
      "metadata": {
        "id": "_mtvuGE95XgY",
        "colab_type": "code",
        "colab": {}
      },
      "source": [
        "def print_test_model(model, dataframe_test, dataframe_test_target):\n",
        "  print('Test Score: {}'.format(model.score(dataframe_test, \n",
        "                                               dataframe_test_target)))\n",
        "  print('Best params: {}'.format(model.best_params_))"
      ],
      "execution_count": 78,
      "outputs": []
    },
    {
      "cell_type": "markdown",
      "metadata": {
        "id": "KvabuvzMijfD",
        "colab_type": "text"
      },
      "source": [
        "# Esecuzione"
      ]
    },
    {
      "cell_type": "markdown",
      "metadata": {
        "id": "dGY5l2stAHSO",
        "colab_type": "text"
      },
      "source": [
        "\n",
        "\n"
      ]
    },
    {
      "cell_type": "code",
      "metadata": {
        "id": "Tr1o_OB9ik78",
        "colab_type": "code",
        "colab": {}
      },
      "source": [
        "## MISCELLANEOUS ###############################################################\n",
        "\n",
        "# !pip install -r requirements.txt\n",
        "\n",
        "# Rende i numeri a virgola mobile più leggibili\n",
        "np.set_printoptions(precision=3, suppress=True)\n",
        "\n",
        "################################################################################"
      ],
      "execution_count": 79,
      "outputs": []
    },
    {
      "cell_type": "code",
      "metadata": {
        "id": "PJhX6GtOgbiA",
        "colab_type": "code",
        "colab": {}
      },
      "source": [
        "## MANUAL INTERVENTION #########################################################\n",
        "\n",
        "dataframe_train_path = \"./train.csv\"\n",
        "dataframe_test_path = \"./test.csv\"\n",
        "#dataframe_train_path = \"/content/drive/My Drive/ia-esame/train.csv\"\n",
        "#dataframe_test_path = \"/content/drive/My Drive/ia-esame/test.csv\"\n",
        "\n",
        "################################################################################\n",
        "\n",
        "## EXECUTION ###################################################################\n",
        "\n",
        "\n",
        "#dataframe_train = io_load_csv(dataframe_train_path)\n",
        "#dataframe_test = io_load_csv(dataframe_test_path)\n",
        "\n",
        "dataframe_train, dataframe_test = io_load_multiple_csv([dataframe_train_path, \n",
        "                                                        dataframe_test_path])\n",
        "\n",
        "################################################################################"
      ],
      "execution_count": 80,
      "outputs": []
    },
    {
      "cell_type": "code",
      "metadata": {
        "id": "MDPjs4TCx9sa",
        "colab_type": "code",
        "colab": {
          "base_uri": "https://localhost:8080/",
          "height": 204
        },
        "outputId": "379423ba-a86b-453f-e182-200afd4de16b"
      },
      "source": [
        "dataframe_train.head()"
      ],
      "execution_count": 81,
      "outputs": [
        {
          "output_type": "execute_result",
          "data": {
            "text/html": [
              "<div>\n",
              "<style scoped>\n",
              "    .dataframe tbody tr th:only-of-type {\n",
              "        vertical-align: middle;\n",
              "    }\n",
              "\n",
              "    .dataframe tbody tr th {\n",
              "        vertical-align: top;\n",
              "    }\n",
              "\n",
              "    .dataframe thead th {\n",
              "        text-align: right;\n",
              "    }\n",
              "</style>\n",
              "<table border=\"1\" class=\"dataframe\">\n",
              "  <thead>\n",
              "    <tr style=\"text-align: right;\">\n",
              "      <th></th>\n",
              "      <th>No-show</th>\n",
              "      <th>PatientId</th>\n",
              "      <th>AppointmentID</th>\n",
              "      <th>Gender</th>\n",
              "      <th>ScheduledDay</th>\n",
              "      <th>AppointmentDay</th>\n",
              "      <th>Age</th>\n",
              "      <th>Neighbourhood</th>\n",
              "      <th>Scholarship</th>\n",
              "      <th>Hipertension</th>\n",
              "      <th>Diabetes</th>\n",
              "      <th>Alcoholism</th>\n",
              "      <th>Handcap</th>\n",
              "      <th>SMS_received</th>\n",
              "    </tr>\n",
              "  </thead>\n",
              "  <tbody>\n",
              "    <tr>\n",
              "      <th>0</th>\n",
              "      <td>No</td>\n",
              "      <td>2.647823e+12</td>\n",
              "      <td>5626550</td>\n",
              "      <td>M</td>\n",
              "      <td>2016-04-27T08:22:02Z</td>\n",
              "      <td>2016-05-05T00:00:00Z</td>\n",
              "      <td>63</td>\n",
              "      <td>ILHA DO PRÍNCIPE</td>\n",
              "      <td>0</td>\n",
              "      <td>1</td>\n",
              "      <td>1</td>\n",
              "      <td>0</td>\n",
              "      <td>0</td>\n",
              "      <td>1</td>\n",
              "    </tr>\n",
              "    <tr>\n",
              "      <th>1</th>\n",
              "      <td>No</td>\n",
              "      <td>2.772585e+14</td>\n",
              "      <td>5680940</td>\n",
              "      <td>F</td>\n",
              "      <td>2016-05-10T13:18:27Z</td>\n",
              "      <td>2016-05-13T00:00:00Z</td>\n",
              "      <td>52</td>\n",
              "      <td>SANTO ANTÔNIO</td>\n",
              "      <td>0</td>\n",
              "      <td>0</td>\n",
              "      <td>0</td>\n",
              "      <td>0</td>\n",
              "      <td>0</td>\n",
              "      <td>0</td>\n",
              "    </tr>\n",
              "    <tr>\n",
              "      <th>2</th>\n",
              "      <td>No</td>\n",
              "      <td>5.378235e+13</td>\n",
              "      <td>5679296</td>\n",
              "      <td>F</td>\n",
              "      <td>2016-05-10T09:44:35Z</td>\n",
              "      <td>2016-05-10T00:00:00Z</td>\n",
              "      <td>46</td>\n",
              "      <td>CENTRO</td>\n",
              "      <td>0</td>\n",
              "      <td>1</td>\n",
              "      <td>0</td>\n",
              "      <td>0</td>\n",
              "      <td>0</td>\n",
              "      <td>0</td>\n",
              "    </tr>\n",
              "    <tr>\n",
              "      <th>3</th>\n",
              "      <td>No</td>\n",
              "      <td>2.711119e+13</td>\n",
              "      <td>5621478</td>\n",
              "      <td>F</td>\n",
              "      <td>2016-04-26T10:21:41Z</td>\n",
              "      <td>2016-05-02T00:00:00Z</td>\n",
              "      <td>31</td>\n",
              "      <td>DA PENHA</td>\n",
              "      <td>0</td>\n",
              "      <td>0</td>\n",
              "      <td>0</td>\n",
              "      <td>0</td>\n",
              "      <td>0</td>\n",
              "      <td>0</td>\n",
              "    </tr>\n",
              "    <tr>\n",
              "      <th>4</th>\n",
              "      <td>No</td>\n",
              "      <td>8.328715e+10</td>\n",
              "      <td>5671891</td>\n",
              "      <td>F</td>\n",
              "      <td>2016-05-09T07:22:43Z</td>\n",
              "      <td>2016-05-11T00:00:00Z</td>\n",
              "      <td>50</td>\n",
              "      <td>CONQUISTA</td>\n",
              "      <td>0</td>\n",
              "      <td>0</td>\n",
              "      <td>0</td>\n",
              "      <td>0</td>\n",
              "      <td>0</td>\n",
              "      <td>0</td>\n",
              "    </tr>\n",
              "  </tbody>\n",
              "</table>\n",
              "</div>"
            ],
            "text/plain": [
              "  No-show     PatientId  AppointmentID  ... Alcoholism Handcap SMS_received\n",
              "0      No  2.647823e+12        5626550  ...          0       0            1\n",
              "1      No  2.772585e+14        5680940  ...          0       0            0\n",
              "2      No  5.378235e+13        5679296  ...          0       0            0\n",
              "3      No  2.711119e+13        5621478  ...          0       0            0\n",
              "4      No  8.328715e+10        5671891  ...          0       0            0\n",
              "\n",
              "[5 rows x 14 columns]"
            ]
          },
          "metadata": {
            "tags": []
          },
          "execution_count": 81
        }
      ]
    },
    {
      "cell_type": "code",
      "metadata": {
        "id": "EuM7YKJ2FFHO",
        "colab_type": "code",
        "colab": {
          "base_uri": "https://localhost:8080/",
          "height": 1000
        },
        "outputId": "d5f237d5-7c39-482c-b32b-d24db5f98ecc"
      },
      "source": [
        "## MANUAL INTERVENTION #########################################################\n",
        "\n",
        "nan_list = [\n",
        "            \"\", \n",
        "            \" \", \n",
        "            \"?\",\n",
        "            \"unknown\"\n",
        "] # All the ways a nan element appears inside the dataframe\n",
        "\n",
        "feature_list = [\n",
        "                \"Gender\",\n",
        "                \"Hipertension\",\n",
        "                \"Diabetes\",\n",
        "                \"Alcoholism\",\n",
        "                \"Handcap\",\n",
        "                \"SMS_received\"\n",
        "] # All the useful features to plot \n",
        "\n",
        "feature_target = \"No-show\"\n",
        "\n",
        "################################################################################\n",
        "\n",
        "## EXECUTION ###################################################################\n",
        "\n",
        "# TODO Investigare l'utilizzo di map che ritorna valori _o_ \n",
        "#      substitute che agisce in utomatico senza a = a.sub(b)\n",
        "\n",
        "# Clean the dataframe from nan values\n",
        "dataframe_train = normalize_nan(dataframe_train, nan_list)\n",
        "dataframe_test = normalize_nan(dataframe_test, nan_list)\n",
        "\n",
        "# Print dataframe's infographic\n",
        "print_infos(dataframe_train)\n",
        "print_feature_plots(dataframe_train, feature_list, feature_target)\n",
        "\n",
        "################################################################################"
      ],
      "execution_count": 82,
      "outputs": [
        {
          "output_type": "stream",
          "text": [
            "Dataframe miscellaneous:\n",
            "\n",
            "Rows     : 70736\n",
            "Columns  : 14\n",
            "\n",
            "Features :\n",
            "['No-show', 'PatientId', 'AppointmentID', 'Gender', 'ScheduledDay', 'AppointmentDay', 'Age', 'Neighbourhood', 'Scholarship', 'Hipertension', 'Diabetes', 'Alcoholism', 'Handcap', 'SMS_received']\n",
            "\n",
            "Unique values :\n",
            "No-show               2\n",
            "PatientId         46573\n",
            "AppointmentID     70736\n",
            "Gender                2\n",
            "ScheduledDay      67701\n",
            "AppointmentDay       27\n",
            "Age                 103\n",
            "Neighbourhood        81\n",
            "Scholarship           2\n",
            "Hipertension          2\n",
            "Diabetes              2\n",
            "Alcoholism            2\n",
            "Handcap               5\n",
            "SMS_received          2\n",
            "dtype: int64\n",
            "\n",
            "Dataframe info:\n",
            "<class 'pandas.core.frame.DataFrame'>\n",
            "RangeIndex: 70736 entries, 0 to 70735\n",
            "Data columns (total 14 columns):\n",
            " #   Column          Non-Null Count  Dtype  \n",
            "---  ------          --------------  -----  \n",
            " 0   No-show         70736 non-null  object \n",
            " 1   PatientId       70736 non-null  float64\n",
            " 2   AppointmentID   70736 non-null  int64  \n",
            " 3   Gender          70736 non-null  object \n",
            " 4   ScheduledDay    70736 non-null  object \n",
            " 5   AppointmentDay  70736 non-null  object \n",
            " 6   Age             70736 non-null  int64  \n",
            " 7   Neighbourhood   70736 non-null  object \n",
            " 8   Scholarship     70736 non-null  int64  \n",
            " 9   Hipertension    70736 non-null  int64  \n",
            " 10  Diabetes        70736 non-null  int64  \n",
            " 11  Alcoholism      70736 non-null  int64  \n",
            " 12  Handcap         70736 non-null  int64  \n",
            " 13  SMS_received    70736 non-null  int64  \n",
            "dtypes: float64(1), int64(8), object(5)\n",
            "memory usage: 7.6+ MB\n"
          ],
          "name": "stdout"
        },
        {
          "output_type": "display_data",
          "data": {
            "image/png": "[encoded data removed]",
            "text/plain": [
              "<Figure size 720x360 with 2 Axes>"
            ]
          },
          "metadata": {
            "tags": [],
            "needs_background": "light"
          }
        },
        {
          "output_type": "display_data",
          "data": {
            "image/png": "[encoded data removed]",
            "text/plain": [
              "<Figure size 720x360 with 2 Axes>"
            ]
          },
          "metadata": {
            "tags": [],
            "needs_background": "light"
          }
        },
        {
          "output_type": "display_data",
          "data": {
            "image/png": "[encoded data removed]",
            "text/plain": [
              "<Figure size 720x360 with 2 Axes>"
            ]
          },
          "metadata": {
            "tags": [],
            "needs_background": "light"
          }
        },
        {
          "output_type": "display_data",
          "data": {
            "image/png": "[encoded data removed]",
            "text/plain": [
              "<Figure size 720x360 with 2 Axes>"
            ]
          },
          "metadata": {
            "tags": [],
            "needs_background": "light"
          }
        },
        {
          "output_type": "display_data",
          "data": {
            "image/png": "[encoded data removed]",
            "text/plain": [
              "<Figure size 1800x360 with 5 Axes>"
            ]
          },
          "metadata": {
            "tags": [],
            "needs_background": "light"
          }
        },
        {
          "output_type": "display_data",
          "data": {
            "image/png": "[encoded data removed]",
            "text/plain": [
              "<Figure size 720x360 with 2 Axes>"
            ]
          },
          "metadata": {
            "tags": [],
            "needs_background": "light"
          }
        }
      ]
    },
    {
      "cell_type": "code",
      "metadata": {
        "id": "2YwnlUJUF2yP",
        "colab_type": "code",
        "colab": {}
      },
      "source": [
        "## MANUAL INTERVENTION #########################################################\n",
        "\n",
        "useless_list = [\n",
        "                #\"PatientId\",\n",
        "                \"AppointmentID\",\n",
        "                \"ScheduledDay\"        \n",
        "] # All the meaningless attributes in relation to the prediction \n",
        "\n",
        "################################################################################\n",
        "\n",
        "## EXECUTION ###################################################################\n",
        "\n",
        "# Clean the dataframe from meningless attributes\n",
        "dataframe_train = clean_useless(dataframe_train, useless_list)\n",
        "dataframe_test = clean_useless(dataframe_test, useless_list)\n",
        "\n",
        "# Transform every column in a float value\n",
        "# dataframe_train, label_encoder_dict = attributes_to_float(dataframe_train)\n",
        "\n",
        "################################################################################"
      ],
      "execution_count": 83,
      "outputs": []
    },
    {
      "cell_type": "code",
      "metadata": {
        "id": "VVf94hWA3yEA",
        "colab_type": "code",
        "colab": {
          "base_uri": "https://localhost:8080/",
          "height": 85
        },
        "outputId": "ac556ab3-f11a-420e-e055-02b4cef7aa43"
      },
      "source": [
        "from sklearn.preprocessing import LabelBinarizer, LabelEncoder\n",
        "\n",
        "\n",
        "## MANUAL INTERVENTION #########################################################\n",
        "\n",
        "feature_target = \"No-show\"\n",
        "\n",
        "################################################################################\n",
        "\n",
        "# TODO LE cose che chiamo due volte devono diventare la chiamata ad una funzione sola\n",
        "\n",
        "## EXECUTION ###################################################################\n",
        "\n",
        "# lb = LabelBinarizer()\n",
        "le = LabelEncoder()\n",
        "\n",
        "# dataframe_train_target = lb.fit_transform(dataframe_train.pop(feature_target))\n",
        "# dataframe_test_target = lb.fit_transform(dataframe_test.pop(feature_target))\n",
        "\n",
        "dataframe_train_target = le.fit_transform(dataframe_train.pop(feature_target))\n",
        "dataframe_test_target = le.fit_transform(dataframe_test.pop(feature_target))\n",
        "\n",
        "# Create the model\n",
        "model = create_model(dataframe_train)\n",
        "print_model(model)\n",
        "\n",
        "# Train the model\n",
        "model = train_model(model, dataframe_train, dataframe_train_target)\n",
        "\n",
        "# Test the model\n",
        "print_test_model(model, dataframe_test, dataframe_test_target)\n",
        "\n",
        "################################################################################"
      ],
      "execution_count": 84,
      "outputs": [
        {
          "output_type": "stream",
          "text": [
            "Fitting 5 folds for each of 9 candidates, totalling 45 fits\n"
          ],
          "name": "stdout"
        },
        {
          "output_type": "stream",
          "text": [
            "[Parallel(n_jobs=1)]: Using backend SequentialBackend with 1 concurrent workers.\n",
            "[Parallel(n_jobs=1)]: Done  45 out of  45 | elapsed: 19.9min finished\n"
          ],
          "name": "stderr"
        },
        {
          "output_type": "stream",
          "text": [
            "Test Score: 0.790048063330506\n"
          ],
          "name": "stdout"
        }
      ]
    }
  ]
}